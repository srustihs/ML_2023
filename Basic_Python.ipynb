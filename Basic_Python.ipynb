{
  "nbformat": 4,
  "nbformat_minor": 0,
  "metadata": {
    "colab": {
      "provenance": [],
      "authorship_tag": "ABX9TyMi8QUiHTAjycZ0DnPwURrT",
      "include_colab_link": true
    },
    "kernelspec": {
      "name": "python3",
      "display_name": "Python 3"
    },
    "language_info": {
      "name": "python"
    }
  },
  "cells": [
    {
      "cell_type": "markdown",
      "metadata": {
        "id": "view-in-github",
        "colab_type": "text"
      },
      "source": [
        "<a href=\"https://colab.research.google.com/github/srustihs/ML_2023/blob/main/Basic_Python.ipynb\" target=\"_parent\"><img src=\"https://colab.research.google.com/assets/colab-badge.svg\" alt=\"Open In Colab\"/></a>"
      ]
    },
    {
      "cell_type": "markdown",
      "source": [],
      "metadata": {
        "id": "isoGpmDjJPX4"
      }
    },
    {
      "cell_type": "markdown",
      "source": [],
      "metadata": {
        "id": "hmiko2IdFsv6"
      }
    },
    {
      "cell_type": "code",
      "source": [
        "print('Hello World')\n",
        "print(\"Hello World\")"
      ],
      "metadata": {
        "colab": {
          "base_uri": "https://localhost:8080/"
        },
        "id": "xWlDa5ZKFwsA",
        "outputId": "6e39bbc6-1f12-4009-a987-8c8ccfd7256d"
      },
      "execution_count": null,
      "outputs": [
        {
          "output_type": "stream",
          "name": "stdout",
          "text": [
            "Hello World\n",
            "Hello World\n"
          ]
        }
      ]
    },
    {
      "cell_type": "markdown",
      "source": [
        "Multi line print"
      ],
      "metadata": {
        "id": "rP_p8HLPGnL5"
      }
    },
    {
      "cell_type": "code",
      "source": [
        "print('Hello \\nworld')"
      ],
      "metadata": {
        "colab": {
          "base_uri": "https://localhost:8080/"
        },
        "id": "njksPdqIGsfb",
        "outputId": "67a6636a-fe25-4ae7-eec1-d2605475470e"
      },
      "execution_count": null,
      "outputs": [
        {
          "output_type": "stream",
          "name": "stdout",
          "text": [
            "Hello \n",
            "world\n"
          ]
        }
      ]
    },
    {
      "cell_type": "code",
      "source": [
        "print('Hello \\\\nWorld')"
      ],
      "metadata": {
        "colab": {
          "base_uri": "https://localhost:8080/"
        },
        "id": "cVA7DBBfG5v1",
        "outputId": "cd5771fe-a51c-4ae4-92c3-ecf1d9031fa1"
      },
      "execution_count": null,
      "outputs": [
        {
          "output_type": "stream",
          "name": "stdout",
          "text": [
            "Hello \\nWorld\n"
          ]
        }
      ]
    },
    {
      "cell_type": "code",
      "source": [
        "print('Hello \\tWorld')"
      ],
      "metadata": {
        "colab": {
          "base_uri": "https://localhost:8080/"
        },
        "id": "ucXtDmisHFfK",
        "outputId": "fc15a80e-df6f-4161-8d21-19721df8883d"
      },
      "execution_count": null,
      "outputs": [
        {
          "output_type": "stream",
          "name": "stdout",
          "text": [
            "Hello \tWorld\n"
          ]
        }
      ]
    },
    {
      "cell_type": "code",
      "source": [
        "print('First line \\nSecond line \\nThird line')"
      ],
      "metadata": {
        "colab": {
          "base_uri": "https://localhost:8080/"
        },
        "id": "vVvE-uHoHWI6",
        "outputId": "736a98ec-e48d-48e8-99ba-949c597e0ccd"
      },
      "execution_count": null,
      "outputs": [
        {
          "output_type": "stream",
          "name": "stdout",
          "text": [
            "First line \n",
            "Second line \n",
            "Third line\n"
          ]
        }
      ]
    },
    {
      "cell_type": "code",
      "source": [
        "print('''First line\n",
        "Second line\n",
        "Third line''')"
      ],
      "metadata": {
        "colab": {
          "base_uri": "https://localhost:8080/"
        },
        "id": "zwjmT0-mIG6O",
        "outputId": "5cacd18d-6ce8-4d2d-bd27-3d8551948805"
      },
      "execution_count": null,
      "outputs": [
        {
          "output_type": "stream",
          "name": "stdout",
          "text": [
            "First line\n",
            "Second line\n",
            "Third line\n"
          ]
        }
      ]
    },
    {
      "cell_type": "code",
      "source": [
        "print(\"\"\"First line\n",
        "Second line\n",
        "Third line\"\"\")"
      ],
      "metadata": {
        "colab": {
          "base_uri": "https://localhost:8080/"
        },
        "id": "QE8iWiX5IWPh",
        "outputId": "848e68c6-c47b-4d13-e9a8-9afe82f5cf66"
      },
      "execution_count": null,
      "outputs": [
        {
          "output_type": "stream",
          "name": "stdout",
          "text": [
            "First line\n",
            "Second line\n",
            "Third line\n"
          ]
        }
      ]
    },
    {
      "cell_type": "code",
      "source": [
        "print('Hello,World')"
      ],
      "metadata": {
        "colab": {
          "base_uri": "https://localhost:8080/"
        },
        "id": "aHnGztHQI1sP",
        "outputId": "fc23581a-416a-4929-dfcb-0ff9c24f671a"
      },
      "execution_count": null,
      "outputs": [
        {
          "output_type": "stream",
          "name": "stdout",
          "text": [
            "Hello,World\n"
          ]
        }
      ]
    },
    {
      "cell_type": "code",
      "source": [
        "print('Hello','World')"
      ],
      "metadata": {
        "colab": {
          "base_uri": "https://localhost:8080/"
        },
        "id": "q8l7dTbLI9dJ",
        "outputId": "caeca5f8-1043-407b-815a-99a9157da99c"
      },
      "execution_count": null,
      "outputs": [
        {
          "output_type": "stream",
          "name": "stdout",
          "text": [
            "Hello World\n"
          ]
        }
      ]
    },
    {
      "cell_type": "code",
      "source": [
        "print('Hello','World',sep='---')\n",
        "print('Hello','World',sep='\\t')\n",
        "print('Hello','World',sep='\\n')\n"
      ],
      "metadata": {
        "colab": {
          "base_uri": "https://localhost:8080/"
        },
        "id": "eLqNnqGRJItB",
        "outputId": "fdefd3a6-2b5a-4600-8c21-3423cae37c34"
      },
      "execution_count": null,
      "outputs": [
        {
          "output_type": "stream",
          "name": "stdout",
          "text": [
            "Hello---World\n",
            "Hello\tWorld\n",
            "Hello\n",
            "World\n"
          ]
        }
      ]
    },
    {
      "cell_type": "markdown",
      "source": [
        "Arithmetic Operations"
      ],
      "metadata": {
        "id": "LoumwsqLJncz"
      }
    },
    {
      "cell_type": "code",
      "source": [
        "(10-5)*2\n"
      ],
      "metadata": {
        "colab": {
          "base_uri": "https://localhost:8080/"
        },
        "id": "Xx7XNFaaJrAe",
        "outputId": "cf6dfa9c-e322-4de4-97b5-dcc841aebd35"
      },
      "execution_count": null,
      "outputs": [
        {
          "output_type": "execute_result",
          "data": {
            "text/plain": [
              "10"
            ]
          },
          "metadata": {},
          "execution_count": 16
        }
      ]
    },
    {
      "cell_type": "code",
      "source": [
        "print(10-5*2)"
      ],
      "metadata": {
        "colab": {
          "base_uri": "https://localhost:8080/"
        },
        "id": "YNpH7NJ_Jxzv",
        "outputId": "4136d19c-05cc-4c69-c057-d7415d5cce2e"
      },
      "execution_count": null,
      "outputs": [
        {
          "output_type": "stream",
          "name": "stdout",
          "text": [
            "0\n"
          ]
        }
      ]
    },
    {
      "cell_type": "code",
      "source": [
        "print(10%6)"
      ],
      "metadata": {
        "colab": {
          "base_uri": "https://localhost:8080/"
        },
        "id": "BfUjnWsVJ6_v",
        "outputId": "5e55e690-6d78-4b61-b79e-e0d8bb60486b"
      },
      "execution_count": null,
      "outputs": [
        {
          "output_type": "stream",
          "name": "stdout",
          "text": [
            "4\n"
          ]
        }
      ]
    },
    {
      "cell_type": "code",
      "source": [
        "3/2"
      ],
      "metadata": {
        "colab": {
          "base_uri": "https://localhost:8080/"
        },
        "id": "GWJDFGVbKJdb",
        "outputId": "6e47ada2-25b6-4f90-8efb-cbf9cae7a1a9"
      },
      "execution_count": null,
      "outputs": [
        {
          "output_type": "execute_result",
          "data": {
            "text/plain": [
              "1.5"
            ]
          },
          "metadata": {},
          "execution_count": 15
        }
      ]
    },
    {
      "cell_type": "code",
      "source": [
        "3//2"
      ],
      "metadata": {
        "colab": {
          "base_uri": "https://localhost:8080/"
        },
        "id": "HuFoWVTbK83E",
        "outputId": "7e3d7011-da82-4dee-c07c-18b2b8996ccb"
      },
      "execution_count": null,
      "outputs": [
        {
          "output_type": "execute_result",
          "data": {
            "text/plain": [
              "1"
            ]
          },
          "metadata": {},
          "execution_count": 17
        }
      ]
    },
    {
      "cell_type": "code",
      "source": [
        "print(3//2)"
      ],
      "metadata": {
        "colab": {
          "base_uri": "https://localhost:8080/"
        },
        "id": "yHFBuVqiLCFJ",
        "outputId": "119bd6a2-aa01-4bde-fe2e-d1c3466417bc"
      },
      "execution_count": null,
      "outputs": [
        {
          "output_type": "stream",
          "name": "stdout",
          "text": [
            "1\n"
          ]
        }
      ]
    },
    {
      "cell_type": "code",
      "source": [
        "round(1.5)"
      ],
      "metadata": {
        "colab": {
          "base_uri": "https://localhost:8080/"
        },
        "id": "uNm-l5VlLGSs",
        "outputId": "0eab9358-074d-4513-c4cf-99c8f91d4fc0"
      },
      "execution_count": null,
      "outputs": [
        {
          "output_type": "execute_result",
          "data": {
            "text/plain": [
              "2"
            ]
          },
          "metadata": {},
          "execution_count": 19
        }
      ]
    },
    {
      "cell_type": "code",
      "source": [
        "round(1.555555,2)"
      ],
      "metadata": {
        "colab": {
          "base_uri": "https://localhost:8080/"
        },
        "id": "2nH5DAlZLNhw",
        "outputId": "4a26b90e-c290-4a10-e21e-540abc0b648e"
      },
      "execution_count": null,
      "outputs": [
        {
          "output_type": "execute_result",
          "data": {
            "text/plain": [
              "1.56"
            ]
          },
          "metadata": {},
          "execution_count": 20
        }
      ]
    },
    {
      "cell_type": "markdown",
      "source": [
        "2 to the power 3"
      ],
      "metadata": {
        "id": "t4ggUTFLLalN"
      }
    },
    {
      "cell_type": "code",
      "source": [
        "2**3"
      ],
      "metadata": {
        "colab": {
          "base_uri": "https://localhost:8080/"
        },
        "id": "CJuoZsPZLd0j",
        "outputId": "e60edbe4-c352-476a-f505-6422bed1f204"
      },
      "execution_count": null,
      "outputs": [
        {
          "output_type": "execute_result",
          "data": {
            "text/plain": [
              "8"
            ]
          },
          "metadata": {},
          "execution_count": 21
        }
      ]
    },
    {
      "cell_type": "markdown",
      "source": [
        "Variables"
      ],
      "metadata": {
        "id": "vRJl06BxL1_B"
      }
    },
    {
      "cell_type": "code",
      "source": [
        "_variable=0\n",
        "variable=0\n",
        "variable1=0"
      ],
      "metadata": {
        "id": "2kdNvsTrL5gV"
      },
      "execution_count": null,
      "outputs": []
    },
    {
      "cell_type": "code",
      "source": [
        "FirstSecond=0\n",
        "First_Second=0"
      ],
      "metadata": {
        "id": "etpZLAESMTTp"
      },
      "execution_count": null,
      "outputs": []
    },
    {
      "cell_type": "code",
      "source": [
        "a=0\n",
        "b=0\n",
        "c=0"
      ],
      "metadata": {
        "id": "aMZT2rJ7Mf9k"
      },
      "execution_count": null,
      "outputs": []
    },
    {
      "cell_type": "code",
      "source": [
        "a,b,c=1,2,3"
      ],
      "metadata": {
        "id": "5ZCRG0P-MoQU"
      },
      "execution_count": null,
      "outputs": []
    },
    {
      "cell_type": "code",
      "source": [
        "print(a,b,c)"
      ],
      "metadata": {
        "colab": {
          "base_uri": "https://localhost:8080/"
        },
        "id": "eW8-1RENM3Sb",
        "outputId": "9f697a02-aca5-448b-e71b-32d2877ead38"
      },
      "execution_count": null,
      "outputs": [
        {
          "output_type": "stream",
          "name": "stdout",
          "text": [
            "1 2 3\n"
          ]
        }
      ]
    },
    {
      "cell_type": "code",
      "source": [
        "a=b=c=1\n",
        "print(a,b,c)"
      ],
      "metadata": {
        "colab": {
          "base_uri": "https://localhost:8080/"
        },
        "id": "sp76BNwONCFe",
        "outputId": "dff3fd27-b899-4361-fd79-6723a485e44b"
      },
      "execution_count": null,
      "outputs": [
        {
          "output_type": "stream",
          "name": "stdout",
          "text": [
            "1 1 1\n"
          ]
        }
      ]
    },
    {
      "cell_type": "markdown",
      "source": [
        "Reading Input"
      ],
      "metadata": {
        "id": "ZvB5a_7kNKrP"
      }
    },
    {
      "cell_type": "code",
      "source": [
        "a=input()"
      ],
      "metadata": {
        "colab": {
          "base_uri": "https://localhost:8080/"
        },
        "id": "ysDLRcAxNVKd",
        "outputId": "568a327a-b3c9-49ab-bd63-a8b005847362"
      },
      "execution_count": null,
      "outputs": [
        {
          "name": "stdout",
          "output_type": "stream",
          "text": [
            "1\n"
          ]
        }
      ]
    },
    {
      "cell_type": "code",
      "source": [
        "a=input('Enter a number: ')"
      ],
      "metadata": {
        "colab": {
          "base_uri": "https://localhost:8080/"
        },
        "id": "jfMqgVE1Ono4",
        "outputId": "b9af723b-6393-4ec1-c42c-d1f0721fa0bf"
      },
      "execution_count": null,
      "outputs": [
        {
          "name": "stdout",
          "output_type": "stream",
          "text": [
            "Enter a number: 1\n"
          ]
        }
      ]
    },
    {
      "cell_type": "code",
      "source": [
        "print(a)"
      ],
      "metadata": {
        "colab": {
          "base_uri": "https://localhost:8080/"
        },
        "id": "DDpUUsrfO9zF",
        "outputId": "f5c56154-9909-4b13-beb6-40d2f2e99240"
      },
      "execution_count": null,
      "outputs": [
        {
          "output_type": "stream",
          "name": "stdout",
          "text": [
            "1\n"
          ]
        }
      ]
    },
    {
      "cell_type": "code",
      "source": [
        "print(type(a))"
      ],
      "metadata": {
        "colab": {
          "base_uri": "https://localhost:8080/"
        },
        "id": "_0HgejrvPEAo",
        "outputId": "719c5d3b-72a8-4ac0-b436-e7ed6697ad9a"
      },
      "execution_count": null,
      "outputs": [
        {
          "output_type": "stream",
          "name": "stdout",
          "text": [
            "<class 'str'>\n"
          ]
        }
      ]
    },
    {
      "cell_type": "code",
      "source": [
        "b=int(a)\n",
        "print(type(b))"
      ],
      "metadata": {
        "colab": {
          "base_uri": "https://localhost:8080/"
        },
        "id": "hwOBc04DPIvi",
        "outputId": "1b5b0fd7-e57b-4235-c3a7-c3bbafeadea7"
      },
      "execution_count": null,
      "outputs": [
        {
          "output_type": "stream",
          "name": "stdout",
          "text": [
            "<class 'int'>\n"
          ]
        }
      ]
    },
    {
      "cell_type": "markdown",
      "source": [
        "Read 3 values from user which consists integer as well as decimal\n",
        "Print type of data for all 3 values\n",
        "Later convert it into integer anf floating number respectively"
      ],
      "metadata": {
        "id": "oXdOy7hEPX07"
      }
    },
    {
      "cell_type": "code",
      "source": [
        "a=input('Enter first number: ')\n",
        "b=input('Enter second number: ')\n",
        "c=input('Enter third number: ')"
      ],
      "metadata": {
        "colab": {
          "base_uri": "https://localhost:8080/"
        },
        "id": "3cijaW2gPvaO",
        "outputId": "64a93891-f86b-4a91-ce56-c3095521d45b"
      },
      "execution_count": null,
      "outputs": [
        {
          "name": "stdout",
          "output_type": "stream",
          "text": [
            "Enter first number: 10\n",
            "Enter second number: 12\n",
            "Enter third number: 1.3\n"
          ]
        }
      ]
    },
    {
      "cell_type": "code",
      "source": [
        "print(type(a),type(b),type(c))"
      ],
      "metadata": {
        "colab": {
          "base_uri": "https://localhost:8080/"
        },
        "id": "8hV0bciQQtb_",
        "outputId": "538258f9-75ca-4b24-bcf6-7943f0515174"
      },
      "execution_count": null,
      "outputs": [
        {
          "output_type": "stream",
          "name": "stdout",
          "text": [
            "<class 'str'> <class 'str'> <class 'str'>\n"
          ]
        }
      ]
    },
    {
      "cell_type": "code",
      "source": [
        "a=int(input('Enter first number: '))\n",
        "b=int(input('Enter second number: '))\n",
        "c=int(input('Enter third number: '))\n",
        "\n",
        "print(type(a),type(b),type(c))"
      ],
      "metadata": {
        "colab": {
          "base_uri": "https://localhost:8080/"
        },
        "id": "qyxsoCrTRGDR",
        "outputId": "1b68fb9e-0fa7-4f5e-a89f-818638d13ec6"
      },
      "execution_count": null,
      "outputs": [
        {
          "output_type": "stream",
          "name": "stdout",
          "text": [
            "Enter first number: 1\n",
            "Enter second number: 2\n",
            "Enter third number: 3\n",
            "<class 'int'> <class 'int'> <class 'int'>\n"
          ]
        }
      ]
    },
    {
      "cell_type": "markdown",
      "source": [
        "Strings"
      ],
      "metadata": {
        "id": "VcRPSdm9SRPA"
      }
    },
    {
      "cell_type": "code",
      "source": [
        "a='Hello'\n",
        "print(type(a))\n",
        "print(a)"
      ],
      "metadata": {
        "colab": {
          "base_uri": "https://localhost:8080/"
        },
        "id": "z-kcYrpBSTYj",
        "outputId": "8a7ab588-7283-48ce-e2d0-4b6bfbd5d10a"
      },
      "execution_count": null,
      "outputs": [
        {
          "output_type": "stream",
          "name": "stdout",
          "text": [
            "<class 'str'>\n",
            "Hello\n"
          ]
        }
      ]
    },
    {
      "cell_type": "code",
      "source": [
        "a='Hello'\n",
        "print(a)\n",
        "print(type(a))\n"
      ],
      "metadata": {
        "colab": {
          "base_uri": "https://localhost:8080/"
        },
        "id": "wNuTrDwWSo_r",
        "outputId": "329b7124-8b64-416c-95f0-9ae937de8cc1"
      },
      "execution_count": null,
      "outputs": [
        {
          "output_type": "stream",
          "name": "stdout",
          "text": [
            "Hello\n",
            "<class 'str'>\n"
          ]
        }
      ]
    },
    {
      "cell_type": "code",
      "source": [
        "print(a[1])"
      ],
      "metadata": {
        "colab": {
          "base_uri": "https://localhost:8080/"
        },
        "id": "5aPwz6IwS1hz",
        "outputId": "9727461e-0adf-4e04-ffb7-48d75df57122"
      },
      "execution_count": null,
      "outputs": [
        {
          "output_type": "stream",
          "name": "stdout",
          "text": [
            "e\n"
          ]
        }
      ]
    },
    {
      "cell_type": "code",
      "source": [
        "a=input('Enter a string:')"
      ],
      "metadata": {
        "colab": {
          "base_uri": "https://localhost:8080/"
        },
        "id": "xRRaP70wTbZU",
        "outputId": "ec3d1388-82d9-4ecb-eb83-e3b2d9e12d39"
      },
      "execution_count": null,
      "outputs": [
        {
          "name": "stdout",
          "output_type": "stream",
          "text": [
            "Enter a string:Srusti\n"
          ]
        }
      ]
    },
    {
      "cell_type": "code",
      "source": [
        "a=input('Enter a string:')\n",
        "print(a[4])"
      ],
      "metadata": {
        "colab": {
          "base_uri": "https://localhost:8080/"
        },
        "id": "Ujpg8n43Tqcs",
        "outputId": "93b450ed-46cb-425d-e3be-f364f2ae39db"
      },
      "execution_count": null,
      "outputs": [
        {
          "output_type": "stream",
          "name": "stdout",
          "text": [
            "Enter a string:Srusti\n",
            "t\n"
          ]
        }
      ]
    },
    {
      "cell_type": "code",
      "source": [
        "a=input('Enter a string:')\n",
        "print(a[-4])"
      ],
      "metadata": {
        "colab": {
          "base_uri": "https://localhost:8080/"
        },
        "id": "etTfpQOtT-F6",
        "outputId": "9e1d442b-c9ff-4570-bec8-b71f994f845b"
      },
      "execution_count": null,
      "outputs": [
        {
          "output_type": "stream",
          "name": "stdout",
          "text": [
            "Enter a string:Srusti\n",
            "u\n"
          ]
        }
      ]
    },
    {
      "cell_type": "code",
      "source": [
        "length_str = len(a)\n",
        "print(length_str - 1)"
      ],
      "metadata": {
        "colab": {
          "base_uri": "https://localhost:8080/"
        },
        "id": "2QNNphQ1UNlK",
        "outputId": "731a5276-af6f-4e6c-a396-6af11b5d3f1c"
      },
      "execution_count": null,
      "outputs": [
        {
          "output_type": "stream",
          "name": "stdout",
          "text": [
            "5\n"
          ]
        }
      ]
    },
    {
      "cell_type": "code",
      "source": [
        "length_str = len(a)\n",
        "print(length_str - 4)"
      ],
      "metadata": {
        "colab": {
          "base_uri": "https://localhost:8080/"
        },
        "id": "crmaJiepUtku",
        "outputId": "6aa83506-e59b-4c5c-ab93-1b3194576049"
      },
      "execution_count": null,
      "outputs": [
        {
          "output_type": "stream",
          "name": "stdout",
          "text": [
            "2\n"
          ]
        }
      ]
    },
    {
      "cell_type": "code",
      "source": [
        "length_str = len(a)\n",
        "print(a[length_str - 1])"
      ],
      "metadata": {
        "colab": {
          "base_uri": "https://localhost:8080/"
        },
        "id": "hDoEhbCfVAbq",
        "outputId": "042efb2b-6410-4b11-a022-fd32e5cc9799"
      },
      "execution_count": null,
      "outputs": [
        {
          "output_type": "stream",
          "name": "stdout",
          "text": [
            "i\n"
          ]
        }
      ]
    },
    {
      "cell_type": "code",
      "source": [
        "print(a[0:5])"
      ],
      "metadata": {
        "colab": {
          "base_uri": "https://localhost:8080/"
        },
        "id": "VkiSuoFyVMMG",
        "outputId": "7741b5ed-6ea3-45a7-fe3d-7ee4677e6b0e"
      },
      "execution_count": null,
      "outputs": [
        {
          "output_type": "stream",
          "name": "stdout",
          "text": [
            "Srust\n"
          ]
        }
      ]
    },
    {
      "cell_type": "code",
      "source": [
        "print(a[:-1])"
      ],
      "metadata": {
        "colab": {
          "base_uri": "https://localhost:8080/"
        },
        "id": "Ale84rfaVWfp",
        "outputId": "eee529d0-46a0-43a6-e760-37bc185f4747"
      },
      "execution_count": null,
      "outputs": [
        {
          "output_type": "stream",
          "name": "stdout",
          "text": [
            "Srust\n"
          ]
        }
      ]
    },
    {
      "cell_type": "code",
      "source": [
        "print(a[::-1])"
      ],
      "metadata": {
        "colab": {
          "base_uri": "https://localhost:8080/"
        },
        "id": "YaBygtDJVo1o",
        "outputId": "8879e16b-9ba1-4387-9339-840e5980677b"
      },
      "execution_count": null,
      "outputs": [
        {
          "output_type": "stream",
          "name": "stdout",
          "text": [
            "itsurS\n"
          ]
        }
      ]
    },
    {
      "cell_type": "code",
      "source": [
        "print(a[::-2])"
      ],
      "metadata": {
        "colab": {
          "base_uri": "https://localhost:8080/"
        },
        "id": "HA7M5i5mV039",
        "outputId": "55e0b2cf-9397-4227-8f3f-0d38df857d57"
      },
      "execution_count": null,
      "outputs": [
        {
          "output_type": "stream",
          "name": "stdout",
          "text": [
            "isr\n"
          ]
        }
      ]
    },
    {
      "cell_type": "code",
      "source": [
        "print(a[::-3])"
      ],
      "metadata": {
        "colab": {
          "base_uri": "https://localhost:8080/"
        },
        "id": "jGhYEI7kWVex",
        "outputId": "fcf98638-edae-4c8b-d72b-11899659eb3f"
      },
      "execution_count": null,
      "outputs": [
        {
          "output_type": "stream",
          "name": "stdout",
          "text": [
            "iu\n"
          ]
        }
      ]
    },
    {
      "cell_type": "code",
      "source": [
        "\n",
        "print(a[-5:])"
      ],
      "metadata": {
        "colab": {
          "base_uri": "https://localhost:8080/"
        },
        "id": "TeXqPJDZWsbM",
        "outputId": "c7e70264-d6ea-481d-a244-4f985ced354b"
      },
      "execution_count": null,
      "outputs": [
        {
          "output_type": "stream",
          "name": "stdout",
          "text": [
            "rusti\n"
          ]
        }
      ]
    },
    {
      "cell_type": "code",
      "source": [],
      "metadata": {
        "id": "r4jN-QcWKSb8"
      },
      "execution_count": null,
      "outputs": []
    },
    {
      "cell_type": "markdown",
      "source": [
        "WET: WRITE eVERYTHING tWICE DRY: DON'T REPEAT YOURSELF"
      ],
      "metadata": {
        "id": "872ktAKqKYS2"
      }
    },
    {
      "cell_type": "code",
      "source": [],
      "metadata": {
        "id": "pJUtlQPkKzoR"
      },
      "execution_count": null,
      "outputs": []
    },
    {
      "cell_type": "markdown",
      "source": [
        "Loops\n",
        "While"
      ],
      "metadata": {
        "id": "6FTN72gSK7fM"
      }
    },
    {
      "cell_type": "code",
      "source": [
        "i=0\n",
        "while i<=10:\n",
        "  print(i,end='')\n",
        "  i=i+1"
      ],
      "metadata": {
        "colab": {
          "base_uri": "https://localhost:8080/"
        },
        "id": "mQnJDZcQLEHA",
        "outputId": "a46590ef-89d2-416b-f0ad-a587b661589c"
      },
      "execution_count": null,
      "outputs": [
        {
          "output_type": "stream",
          "name": "stdout",
          "text": [
            "012345678910"
          ]
        }
      ]
    },
    {
      "cell_type": "code",
      "source": [
        "num=[1,2,3]\n",
        "print(num*2)"
      ],
      "metadata": {
        "colab": {
          "base_uri": "https://localhost:8080/"
        },
        "id": "RgEYTb3wLnZ1",
        "outputId": "d8838b80-33e3-41db-d617-cf72dd0f3cd4"
      },
      "execution_count": null,
      "outputs": [
        {
          "output_type": "stream",
          "name": "stdout",
          "text": [
            "[1, 2, 3, 1, 2, 3]\n"
          ]
        }
      ]
    },
    {
      "cell_type": "markdown",
      "source": [
        "for loop"
      ],
      "metadata": {
        "id": "-Haal_oLL1b8"
      }
    },
    {
      "cell_type": "code",
      "source": [
        "str1='Hello'\n",
        "for i in str1:\n",
        "  print(i,end='')"
      ],
      "metadata": {
        "colab": {
          "base_uri": "https://localhost:8080/"
        },
        "id": "N7wWA1uIL29A",
        "outputId": "47aaca6d-0f4f-4b44-bd08-eb95058cbbe8"
      },
      "execution_count": null,
      "outputs": [
        {
          "output_type": "stream",
          "name": "stdout",
          "text": [
            "Hello"
          ]
        }
      ]
    },
    {
      "cell_type": "code",
      "source": [
        "str1 = 'Hello World'\n",
        "\n",
        "for i in str1:\n",
        "  print(i, end='')"
      ],
      "metadata": {
        "colab": {
          "base_uri": "https://localhost:8080/"
        },
        "id": "mgyCeRKqMRep",
        "outputId": "9364cdda-4a21-43ce-97a0-90780cdcc2f2"
      },
      "execution_count": null,
      "outputs": [
        {
          "output_type": "stream",
          "name": "stdout",
          "text": [
            "Hello World"
          ]
        }
      ]
    },
    {
      "cell_type": "code",
      "source": [
        "str1 = 'Hello World'\n",
        "\n",
        "for i in str1:\n",
        "  if i==' ':\n",
        "    break\n",
        "  else:\n",
        "    "
      ],
      "metadata": {
        "id": "LgsXgTXTNIi_"
      },
      "execution_count": null,
      "outputs": []
    },
    {
      "cell_type": "code",
      "source": [
        "for i in range(10,20,2):\n",
        "  print(i)"
      ],
      "metadata": {
        "colab": {
          "base_uri": "https://localhost:8080/"
        },
        "id": "G2957sJhN9YL",
        "outputId": "b9da7a07-fe58-4cf0-f073-927e175afbe3"
      },
      "execution_count": null,
      "outputs": [
        {
          "output_type": "stream",
          "name": "stdout",
          "text": [
            "10\n",
            "12\n",
            "14\n",
            "16\n",
            "18\n"
          ]
        }
      ]
    },
    {
      "cell_type": "code",
      "source": [
        "str1='Hello'\n",
        "\n",
        "for i in range(len(str1)):\n",
        "  if i==0:\n",
        "    pass\n",
        "  else:\n",
        "    print(str1[i],end='')"
      ],
      "metadata": {
        "colab": {
          "base_uri": "https://localhost:8080/"
        },
        "id": "miF43GNxOKeM",
        "outputId": "c443c9ef-5331-44c0-8fc1-e58453675c94"
      },
      "execution_count": null,
      "outputs": [
        {
          "output_type": "stream",
          "name": "stdout",
          "text": [
            "ello"
          ]
        }
      ]
    },
    {
      "cell_type": "code",
      "source": [
        "str1='Hello'\n",
        "\n",
        "for i in range(len(str1)):\n",
        "  if i==len(str1)-1:\n",
        "    pass\n",
        "  else:\n",
        "    print(str1[i],end='')"
      ],
      "metadata": {
        "colab": {
          "base_uri": "https://localhost:8080/"
        },
        "id": "zsjUkjDmO8Vy",
        "outputId": "a384d10a-77f6-4dd8-f0e2-69c5f8449ae0"
      },
      "execution_count": null,
      "outputs": [
        {
          "output_type": "stream",
          "name": "stdout",
          "text": [
            "Hell"
          ]
        }
      ]
    },
    {
      "cell_type": "markdown",
      "source": [
        "Display all the two digit numbers where the number and its reverse are divisible by 3"
      ],
      "metadata": {
        "id": "tHK9efl5P1a2"
      }
    },
    {
      "cell_type": "code",
      "source": [
        "for i in range(12,100,3):\n",
        "  print(i)\n"
      ],
      "metadata": {
        "colab": {
          "base_uri": "https://localhost:8080/"
        },
        "id": "_tefAkQcQBN-",
        "outputId": "60d46c8b-9855-4351-868e-2eb28d9397b0"
      },
      "execution_count": null,
      "outputs": [
        {
          "output_type": "stream",
          "name": "stdout",
          "text": [
            "12\n",
            "15\n",
            "18\n",
            "21\n",
            "24\n",
            "27\n",
            "30\n",
            "33\n",
            "36\n",
            "39\n",
            "42\n",
            "45\n",
            "48\n",
            "51\n",
            "54\n",
            "57\n",
            "60\n",
            "63\n",
            "66\n",
            "69\n",
            "72\n",
            "75\n",
            "78\n",
            "81\n",
            "84\n",
            "87\n",
            "90\n",
            "93\n",
            "96\n",
            "99\n"
          ]
        }
      ]
    },
    {
      "cell_type": "code",
      "source": [
        "for i in range(10,100):\n",
        "  temp = str(i)\n",
        "  rev = temp[1]+temp[0]\n",
        "  print(rev)"
      ],
      "metadata": {
        "colab": {
          "base_uri": "https://localhost:8080/"
        },
        "id": "7vDUAxNgR1sS",
        "outputId": "5ee94f8f-a527-487a-e38d-7644f752922b"
      },
      "execution_count": null,
      "outputs": [
        {
          "output_type": "stream",
          "name": "stdout",
          "text": [
            "01\n",
            "11\n",
            "21\n",
            "31\n",
            "41\n",
            "51\n",
            "61\n",
            "71\n",
            "81\n",
            "91\n",
            "02\n",
            "12\n",
            "22\n",
            "32\n",
            "42\n",
            "52\n",
            "62\n",
            "72\n",
            "82\n",
            "92\n",
            "03\n",
            "13\n",
            "23\n",
            "33\n",
            "43\n",
            "53\n",
            "63\n",
            "73\n",
            "83\n",
            "93\n",
            "04\n",
            "14\n",
            "24\n",
            "34\n",
            "44\n",
            "54\n",
            "64\n",
            "74\n",
            "84\n",
            "94\n",
            "05\n",
            "15\n",
            "25\n",
            "35\n",
            "45\n",
            "55\n",
            "65\n",
            "75\n",
            "85\n",
            "95\n",
            "06\n",
            "16\n",
            "26\n",
            "36\n",
            "46\n",
            "56\n",
            "66\n",
            "76\n",
            "86\n",
            "96\n",
            "07\n",
            "17\n",
            "27\n",
            "37\n",
            "47\n",
            "57\n",
            "67\n",
            "77\n",
            "87\n",
            "97\n",
            "08\n",
            "18\n",
            "28\n",
            "38\n",
            "48\n",
            "58\n",
            "68\n",
            "78\n",
            "88\n",
            "98\n",
            "09\n",
            "19\n",
            "29\n",
            "39\n",
            "49\n",
            "59\n",
            "69\n",
            "79\n",
            "89\n",
            "99\n"
          ]
        }
      ]
    },
    {
      "cell_type": "code",
      "source": [
        "for i in range"
      ],
      "metadata": {
        "id": "-tsv4hXqTAge"
      },
      "execution_count": null,
      "outputs": []
    },
    {
      "cell_type": "code",
      "source": [
        "for i in range(10,100):\n",
        "  temp = str(i)\n",
        "  rev = int(temp[1]+temp[0])\n",
        "  if i%3==0 and rev%3==0:\n",
        "   print(i,end=' ')"
      ],
      "metadata": {
        "colab": {
          "base_uri": "https://localhost:8080/"
        },
        "id": "CMf7kELMTR5i",
        "outputId": "a98c8b02-f27b-4312-a1ff-af6f24ec32be"
      },
      "execution_count": null,
      "outputs": [
        {
          "output_type": "stream",
          "name": "stdout",
          "text": [
            "12 15 18 21 24 27 30 33 36 39 42 45 48 51 54 57 60 63 66 69 72 75 78 81 84 87 90 93 96 99 "
          ]
        }
      ]
    },
    {
      "cell_type": "markdown",
      "source": [
        "Write a program to find the highest common factor of 2 numbers"
      ],
      "metadata": {
        "id": "ov8BJw1CT8mG"
      }
    },
    {
      "cell_type": "code",
      "source": [
        "num1=int(input('num1: '))\n",
        "num2=int(input('num2: '))\n",
        "if num1>num2:\n",
        "  smallest = num2\n",
        "else:\n",
        "  smallest = num1\n",
        "\n",
        "for i in range(1,smallest+1): #2 -> 1,2\n",
        "  if num1%i == 0 and num2%i==0:\n",
        "    hcf = i\n",
        "print(f'HCF = {hcf}')\n"
      ],
      "metadata": {
        "colab": {
          "base_uri": "https://localhost:8080/"
        },
        "id": "n6D7yPYsT28g",
        "outputId": "2295a9d5-4f09-4472-930a-85bb89644dc8"
      },
      "execution_count": null,
      "outputs": [
        {
          "output_type": "stream",
          "name": "stdout",
          "text": [
            "num1: 4\n",
            "num2: 3\n",
            "HCF = 1\n"
          ]
        }
      ]
    },
    {
      "cell_type": "code",
      "source": [
        "l1 = ['a','b','c',1]\n",
        "print(l1)\n",
        "print(type(l1))"
      ],
      "metadata": {
        "colab": {
          "base_uri": "https://localhost:8080/"
        },
        "id": "JodEz40xZfSw",
        "outputId": "8bd8dba3-128a-4c71-fc2d-6f0f8f5c58df"
      },
      "execution_count": null,
      "outputs": [
        {
          "output_type": "stream",
          "name": "stdout",
          "text": [
            "['a', 'b', 'c', 1]\n",
            "<class 'list'>\n"
          ]
        }
      ]
    },
    {
      "cell_type": "code",
      "source": [
        "print(l1[:2])"
      ],
      "metadata": {
        "colab": {
          "base_uri": "https://localhost:8080/"
        },
        "id": "bafnYZg2Zy5x",
        "outputId": "f33cc510-43e1-4419-ea51-15fe9632af0e"
      },
      "execution_count": null,
      "outputs": [
        {
          "output_type": "stream",
          "name": "stdout",
          "text": [
            "['a', 'b']\n"
          ]
        }
      ]
    },
    {
      "cell_type": "code",
      "source": [
        "print(l1[1:])"
      ],
      "metadata": {
        "colab": {
          "base_uri": "https://localhost:8080/"
        },
        "id": "-Yc8QAjqaCun",
        "outputId": "884bed72-c30b-46aa-8ade-67caa37682b8"
      },
      "execution_count": null,
      "outputs": [
        {
          "output_type": "stream",
          "name": "stdout",
          "text": [
            "['b', 'c', 1]\n"
          ]
        }
      ]
    },
    {
      "cell_type": "code",
      "source": [
        "print(l1[2:])"
      ],
      "metadata": {
        "colab": {
          "base_uri": "https://localhost:8080/"
        },
        "id": "MD8QjP0ZaRTE",
        "outputId": "08a0512e-1650-4546-9a39-e25b39d231ab"
      },
      "execution_count": null,
      "outputs": [
        {
          "output_type": "stream",
          "name": "stdout",
          "text": [
            "['c', 1]\n"
          ]
        }
      ]
    },
    {
      "cell_type": "code",
      "source": [
        "l1=[1,2,3,'a','b','c']\n",
        "print(l1[0::2])"
      ],
      "metadata": {
        "colab": {
          "base_uri": "https://localhost:8080/"
        },
        "id": "SDpM0krXaWjB",
        "outputId": "9f119d53-d169-4780-bcc2-cc8656853755"
      },
      "execution_count": null,
      "outputs": [
        {
          "output_type": "stream",
          "name": "stdout",
          "text": [
            "[1, 3, 'b']\n"
          ]
        }
      ]
    },
    {
      "cell_type": "code",
      "source": [
        "print(l1[::-1])"
      ],
      "metadata": {
        "colab": {
          "base_uri": "https://localhost:8080/"
        },
        "id": "CAE3HRYeayvB",
        "outputId": "f87cdfe1-0e2e-4acf-9e82-2be3979e1d90"
      },
      "execution_count": null,
      "outputs": [
        {
          "output_type": "stream",
          "name": "stdout",
          "text": [
            "['c', 'b', 'a', 3, 2, 1]\n"
          ]
        }
      ]
    },
    {
      "cell_type": "code",
      "source": [
        "print(l1[2])"
      ],
      "metadata": {
        "colab": {
          "base_uri": "https://localhost:8080/"
        },
        "id": "jInECmmMbCOT",
        "outputId": "435ec39e-c4f4-415a-81a0-b17545e52353"
      },
      "execution_count": null,
      "outputs": [
        {
          "output_type": "stream",
          "name": "stdout",
          "text": [
            "3\n"
          ]
        }
      ]
    },
    {
      "cell_type": "code",
      "source": [
        "l1[2]=4"
      ],
      "metadata": {
        "id": "TGVyn4abbQIE"
      },
      "execution_count": null,
      "outputs": []
    },
    {
      "cell_type": "code",
      "source": [
        "print(l1[2])"
      ],
      "metadata": {
        "colab": {
          "base_uri": "https://localhost:8080/"
        },
        "id": "su65fIgRbeoc",
        "outputId": "d2849fcf-a5d8-456d-9ba7-590cb1891181"
      },
      "execution_count": null,
      "outputs": [
        {
          "output_type": "stream",
          "name": "stdout",
          "text": [
            "4\n"
          ]
        }
      ]
    },
    {
      "cell_type": "code",
      "source": [
        "print(l1)"
      ],
      "metadata": {
        "colab": {
          "base_uri": "https://localhost:8080/"
        },
        "id": "2r07GaH2bkn2",
        "outputId": "041db3b8-e6b1-4454-d739-b27b08f1d08c"
      },
      "execution_count": null,
      "outputs": [
        {
          "output_type": "stream",
          "name": "stdout",
          "text": [
            "[1, 2, 4, 'a', 'b', 'c']\n"
          ]
        }
      ]
    },
    {
      "cell_type": "code",
      "source": [
        "l1[1:3]=[1]"
      ],
      "metadata": {
        "id": "MAtNpodlbppJ"
      },
      "execution_count": null,
      "outputs": []
    },
    {
      "cell_type": "code",
      "source": [
        "print(l1)"
      ],
      "metadata": {
        "colab": {
          "base_uri": "https://localhost:8080/"
        },
        "id": "c7YNpzAEbx5z",
        "outputId": "edd072a8-7ff9-4288-9658-e8871d39f912"
      },
      "execution_count": null,
      "outputs": [
        {
          "output_type": "stream",
          "name": "stdout",
          "text": [
            "[1, 1, 'a', 'b', 'c']\n"
          ]
        }
      ]
    },
    {
      "cell_type": "code",
      "source": [
        "l1.append('d')\n",
        "print(l1)"
      ],
      "metadata": {
        "colab": {
          "base_uri": "https://localhost:8080/"
        },
        "id": "IYyZ0iOUb3rb",
        "outputId": "af9204f1-9d4b-46a6-9256-131ba5515519"
      },
      "execution_count": null,
      "outputs": [
        {
          "output_type": "stream",
          "name": "stdout",
          "text": [
            "[1, 1, 'a', 'b', 'c', 'd']\n"
          ]
        }
      ]
    },
    {
      "cell_type": "code",
      "source": [
        "l1.insert(0,'e')\n",
        "print(l1)"
      ],
      "metadata": {
        "colab": {
          "base_uri": "https://localhost:8080/"
        },
        "id": "BazoGcJ2cC5d",
        "outputId": "33d9197c-b082-4bb4-8d45-dc25a5868fb4"
      },
      "execution_count": null,
      "outputs": [
        {
          "output_type": "stream",
          "name": "stdout",
          "text": [
            "['e', 1, 1, 'a', 'b', 'c', 'd']\n"
          ]
        }
      ]
    },
    {
      "cell_type": "code",
      "source": [
        "l2=['f','g','h']\n",
        "l1.extend(l2)\n",
        "print(l1)"
      ],
      "metadata": {
        "colab": {
          "base_uri": "https://localhost:8080/"
        },
        "id": "wjmPN3sycceK",
        "outputId": "181ebad4-5415-44a0-8d14-8322a9d974aa"
      },
      "execution_count": null,
      "outputs": [
        {
          "output_type": "stream",
          "name": "stdout",
          "text": [
            "['e', 1, 1, 'a', 'b', 'c', 'd', 'f', 'g', 'h']\n"
          ]
        }
      ]
    },
    {
      "cell_type": "code",
      "source": [
        "l2=['h','f','g']\n",
        "l2.sort()\n",
        "print(l2)"
      ],
      "metadata": {
        "colab": {
          "base_uri": "https://localhost:8080/"
        },
        "id": "hAyqcMHvctSc",
        "outputId": "cb0a62c3-9534-4433-a015-ad4b95ddfb9f"
      },
      "execution_count": null,
      "outputs": [
        {
          "output_type": "stream",
          "name": "stdout",
          "text": [
            "['f', 'g', 'h']\n"
          ]
        }
      ]
    },
    {
      "cell_type": "code",
      "source": [
        "l2.reverse()\n",
        "print(l2)"
      ],
      "metadata": {
        "colab": {
          "base_uri": "https://localhost:8080/"
        },
        "id": "Az5OHJeNdOoq",
        "outputId": "f044e5da-8313-4765-fd8a-0de6db3ddb47"
      },
      "execution_count": null,
      "outputs": [
        {
          "output_type": "stream",
          "name": "stdout",
          "text": [
            "['h', 'g', 'f']\n"
          ]
        }
      ]
    },
    {
      "cell_type": "code",
      "source": [
        "del l2[1]\n",
        "print(l2)"
      ],
      "metadata": {
        "colab": {
          "base_uri": "https://localhost:8080/"
        },
        "id": "zeKqXc5WdVup",
        "outputId": "f60267ad-d886-4560-b8de-d76125b8a14a"
      },
      "execution_count": null,
      "outputs": [
        {
          "output_type": "stream",
          "name": "stdout",
          "text": [
            "['h', 'f']\n"
          ]
        }
      ]
    },
    {
      "cell_type": "code",
      "source": [
        "del l1"
      ],
      "metadata": {
        "colab": {
          "base_uri": "https://localhost:8080/",
          "height": 165
        },
        "id": "eL1hNGVbdgip",
        "outputId": "474f512c-f00e-4f67-b7c6-dedcf6fd845f"
      },
      "execution_count": null,
      "outputs": [
        {
          "output_type": "error",
          "ename": "NameError",
          "evalue": "ignored",
          "traceback": [
            "\u001b[0;31m---------------------------------------------------------------------------\u001b[0m",
            "\u001b[0;31mNameError\u001b[0m                                 Traceback (most recent call last)",
            "\u001b[0;32m<ipython-input-40-abcddc4a0ca5>\u001b[0m in \u001b[0;36m<module>\u001b[0;34m\u001b[0m\n\u001b[0;32m----> 1\u001b[0;31m \u001b[0;32mdel\u001b[0m \u001b[0ml1\u001b[0m\u001b[0;34m\u001b[0m\u001b[0;34m\u001b[0m\u001b[0m\n\u001b[0m",
            "\u001b[0;31mNameError\u001b[0m: name 'l1' is not defined"
          ]
        }
      ]
    },
    {
      "cell_type": "markdown",
      "source": [
        "Using for loop,print individual items within a list"
      ],
      "metadata": {
        "id": "4Eo1Z2Q2d1h2"
      }
    },
    {
      "cell_type": "code",
      "source": [
        "l1 = ['a','b','c']\n",
        "#a\n",
        "#b\n",
        "#c\n",
        "for i in l1:\n",
        "  print(i,end='')"
      ],
      "metadata": {
        "colab": {
          "base_uri": "https://localhost:8080/"
        },
        "id": "O8E6PlVdd9F4",
        "outputId": "2179e975-e207-4b19-aba6-cde8f1115733"
      },
      "execution_count": null,
      "outputs": [
        {
          "output_type": "stream",
          "name": "stdout",
          "text": [
            "abc"
          ]
        }
      ]
    },
    {
      "cell_type": "code",
      "source": [
        "print(l1)\n",
        "print(*l1)"
      ],
      "metadata": {
        "colab": {
          "base_uri": "https://localhost:8080/"
        },
        "id": "pT3E1NK8eqbF",
        "outputId": "f3accc5b-e190-4069-fb86-30c57afa5810"
      },
      "execution_count": null,
      "outputs": [
        {
          "output_type": "stream",
          "name": "stdout",
          "text": [
            "['a', 'b', 'c']\n",
            "a b c\n"
          ]
        }
      ]
    },
    {
      "cell_type": "markdown",
      "source": [
        "Write a program to check if a specific items is present within the list\n",
        "l1=['a','b','c','d']\n",
        "search_for = 'e'\n",
        "\n",
        "if 'e' is present within l1, then print item found\n"
      ],
      "metadata": {
        "id": "8tfYWFMLfcKD"
      }
    },
    {
      "cell_type": "code",
      "source": [
        "l1=['a','b','c','d']\n",
        "search_for = input('item to search: ')\n",
        "for i in l1:\n",
        "  if i==search_for:\n",
        "    print('Item found')\n",
        "  else:\n",
        "    print('Item not found')"
      ],
      "metadata": {
        "colab": {
          "base_uri": "https://localhost:8080/"
        },
        "id": "PMxVwDW4fCY1",
        "outputId": "f45d5d50-4937-4826-d790-a4446860c998"
      },
      "execution_count": null,
      "outputs": [
        {
          "output_type": "stream",
          "name": "stdout",
          "text": [
            "item to search: e\n",
            "Item not found\n",
            "Item not found\n",
            "Item not found\n",
            "Item not found\n"
          ]
        }
      ]
    },
    {
      "cell_type": "code",
      "source": [
        "l1=['a','b','c','d']\n",
        "search_for = input('item to search: ')\n",
        "flag1=0\n",
        "flag2=0\n",
        "for i in l1:\n",
        "  if i==search_for:\n",
        "    #print('Item found')\n",
        "    flag1=1\n",
        "  else:\n",
        "    #print('Item not found')\n",
        "    flag2=1\n",
        "\n",
        "  if flag1==1:\n",
        "    print('Item is found')\n",
        "  else:\n",
        "    print('Item is not found')"
      ],
      "metadata": {
        "colab": {
          "base_uri": "https://localhost:8080/"
        },
        "id": "6z2Gt3s_gnp_",
        "outputId": "2c90a6f3-87e8-44d6-e450-3dd5c0e44614"
      },
      "execution_count": null,
      "outputs": [
        {
          "output_type": "stream",
          "name": "stdout",
          "text": [
            "item to search: e\n",
            "Item is not found\n",
            "Item is not found\n",
            "Item is not found\n",
            "Item is not found\n"
          ]
        }
      ]
    },
    {
      "cell_type": "markdown",
      "source": [
        "1 Create a list of following numbers: 1,2,3,4,5.|\n",
        "2 Add the number 6 to the end of the list.|\n",
        "3 Remove the number 2 from the list.|\n",
        "4 Sort the list in ascending order.|\n",
        "5 Reverse the list.|\n",
        "6 Print the length of the list.|\n",
        "7 Print the third item in the list.Here's one way to solve the exercise in Python code:"
      ],
      "metadata": {
        "id": "VPAiIrRSNhxD"
      }
    },
    {
      "cell_type": "code",
      "source": [
        "l1=['1','2','3','4','5']\n",
        "print(l1)"
      ],
      "metadata": {
        "colab": {
          "base_uri": "https://localhost:8080/"
        },
        "id": "6hgzlfBGOlsE",
        "outputId": "14f41420-b799-4f9a-849c-db371a214495"
      },
      "execution_count": null,
      "outputs": [
        {
          "output_type": "stream",
          "name": "stdout",
          "text": [
            "['1', '2', '3', '4', '5']\n"
          ]
        }
      ]
    },
    {
      "cell_type": "code",
      "source": [
        "l1.append(6)\n",
        "print(l1)"
      ],
      "metadata": {
        "colab": {
          "base_uri": "https://localhost:8080/"
        },
        "id": "aeh0CW8gPIIX",
        "outputId": "0049fb63-7b68-4eec-daa1-077181be7734"
      },
      "execution_count": null,
      "outputs": [
        {
          "output_type": "stream",
          "name": "stdout",
          "text": [
            "['1', '2', '3', '4', '5', 6]\n"
          ]
        }
      ]
    },
    {
      "cell_type": "code",
      "source": [
        "del l1[1]\n",
        "print(l1)"
      ],
      "metadata": {
        "colab": {
          "base_uri": "https://localhost:8080/"
        },
        "id": "5T9nOjKUPSRH",
        "outputId": "5b692165-6229-418a-e983-71c0f6ce8ade"
      },
      "execution_count": null,
      "outputs": [
        {
          "output_type": "stream",
          "name": "stdout",
          "text": [
            "['1', '3', '4', '5', 6]\n"
          ]
        }
      ]
    },
    {
      "cell_type": "code",
      "source": [
        "l1=['1','3','2','4','5']\n",
        "l1.sort()\n",
        "print(l1)"
      ],
      "metadata": {
        "colab": {
          "base_uri": "https://localhost:8080/"
        },
        "id": "esCxBpttQEhM",
        "outputId": "c416a534-2c6c-46d7-b715-c2ca85cc0923"
      },
      "execution_count": null,
      "outputs": [
        {
          "output_type": "stream",
          "name": "stdout",
          "text": [
            "['1', '2', '3', '4', '5']\n"
          ]
        }
      ]
    },
    {
      "cell_type": "code",
      "source": [
        "l1.reverse()\n",
        "print(l1)"
      ],
      "metadata": {
        "colab": {
          "base_uri": "https://localhost:8080/"
        },
        "id": "_aFLfvXiQeWb",
        "outputId": "b479534a-ff86-4f9e-f548-b324a2d090ae"
      },
      "execution_count": null,
      "outputs": [
        {
          "output_type": "stream",
          "name": "stdout",
          "text": [
            "['5', '4', '3', '2', '1']\n"
          ]
        }
      ]
    },
    {
      "cell_type": "code",
      "source": [
        "print(l1[::-1])"
      ],
      "metadata": {
        "colab": {
          "base_uri": "https://localhost:8080/"
        },
        "id": "ebXZDlKJQn3n",
        "outputId": "0b32cf4f-dfc9-481c-8202-c4c835a448e3"
      },
      "execution_count": null,
      "outputs": [
        {
          "output_type": "stream",
          "name": "stdout",
          "text": [
            "['1', '2', '3', '4', '5']\n"
          ]
        }
      ]
    },
    {
      "cell_type": "code",
      "source": [
        "print(len(l1))"
      ],
      "metadata": {
        "colab": {
          "base_uri": "https://localhost:8080/"
        },
        "id": "7dYxUMUQQumR",
        "outputId": "db021e99-ecb3-4430-e46d-ccc5a6e7b6b4"
      },
      "execution_count": null,
      "outputs": [
        {
          "output_type": "stream",
          "name": "stdout",
          "text": [
            "5\n"
          ]
        }
      ]
    },
    {
      "cell_type": "code",
      "source": [
        "print(l1[::-1])"
      ],
      "metadata": {
        "colab": {
          "base_uri": "https://localhost:8080/"
        },
        "id": "Ve1z7RJIQ5zP",
        "outputId": "0863dcac-7bb0-4e51-a4fa-ca8d2a6c58be"
      },
      "execution_count": null,
      "outputs": [
        {
          "output_type": "stream",
          "name": "stdout",
          "text": [
            "['1', '2', '3', '4', '5']\n"
          ]
        }
      ]
    },
    {
      "cell_type": "code",
      "source": [
        "l1.reverse()\n",
        "print(l1)"
      ],
      "metadata": {
        "colab": {
          "base_uri": "https://localhost:8080/"
        },
        "id": "soBfYmIaRSgZ",
        "outputId": "b9053c66-9548-4070-eeef-f7e2d36a56cf"
      },
      "execution_count": null,
      "outputs": [
        {
          "output_type": "stream",
          "name": "stdout",
          "text": [
            "['1', '2', '3', '4', '5']\n"
          ]
        }
      ]
    },
    {
      "cell_type": "code",
      "source": [
        "l1.reverse()\n",
        "print(l1)"
      ],
      "metadata": {
        "colab": {
          "base_uri": "https://localhost:8080/"
        },
        "id": "wNAzaESxRdjP",
        "outputId": "247eb75b-cdd5-43c0-8c8f-748e8141b3d3"
      },
      "execution_count": null,
      "outputs": [
        {
          "output_type": "stream",
          "name": "stdout",
          "text": [
            "['5', '4', '3', '2', '1']\n"
          ]
        }
      ]
    },
    {
      "cell_type": "code",
      "source": [
        "print(l1[2])"
      ],
      "metadata": {
        "colab": {
          "base_uri": "https://localhost:8080/"
        },
        "id": "29gsyIJ1RjfY",
        "outputId": "6ccee7c4-98d8-4cd7-b8a5-7a764e1ee856"
      },
      "execution_count": null,
      "outputs": [
        {
          "output_type": "stream",
          "name": "stdout",
          "text": [
            "3\n"
          ]
        }
      ]
    },
    {
      "cell_type": "code",
      "source": [
        "print(l1[-3])"
      ],
      "metadata": {
        "colab": {
          "base_uri": "https://localhost:8080/"
        },
        "id": "PwnDOau-R7OY",
        "outputId": "7123e7b5-202f-4f31-eb21-90b08697b464"
      },
      "execution_count": null,
      "outputs": [
        {
          "output_type": "stream",
          "name": "stdout",
          "text": [
            "3\n"
          ]
        }
      ]
    },
    {
      "cell_type": "markdown",
      "source": [
        "List comprehensions are a concise way to create lists in python"
      ],
      "metadata": {
        "id": "jytrwRbrSRXe"
      }
    },
    {
      "cell_type": "code",
      "source": [
        "#create a list of squares of numbers from 0 to 9 without list comprehension\n",
        "#step1:l1=[0,1,2,3,4,5,6,7,8,9]\n",
        "#output:l1=[0,1,4,9,16,25,36,49,64,81]\n",
        "l1=[]\n",
        "for i in range(10):\n",
        "  i=i**2\n",
        "  l1.append(i)\n",
        "print(l1)"
      ],
      "metadata": {
        "colab": {
          "base_uri": "https://localhost:8080/"
        },
        "id": "LiyEcqq1SfUv",
        "outputId": "590c95d2-2109-46c3-e1fa-3d974e38c966"
      },
      "execution_count": null,
      "outputs": [
        {
          "output_type": "stream",
          "name": "stdout",
          "text": [
            "[0, 1, 4, 9, 16, 25, 36, 49, 64, 81]\n"
          ]
        }
      ]
    },
    {
      "cell_type": "code",
      "source": [
        "l1=[]\n",
        "for i in range(10):\n",
        "  i=i*i\n",
        "  l1.append(i)\n",
        "print(l1)"
      ],
      "metadata": {
        "colab": {
          "base_uri": "https://localhost:8080/"
        },
        "id": "wGZmr2Q-U2su",
        "outputId": "4e6ced19-b8cf-4e47-c600-c34ec4b5285d"
      },
      "execution_count": null,
      "outputs": [
        {
          "output_type": "stream",
          "name": "stdout",
          "text": [
            "[0, 1, 4, 9, 16, 25, 36, 49, 64, 81]\n"
          ]
        }
      ]
    },
    {
      "cell_type": "code",
      "source": [
        "l1=[]\n",
        "for i in range(51):\n",
        "  i=i**3\n",
        "  l1.append(i)\n",
        "print(l1)"
      ],
      "metadata": {
        "colab": {
          "base_uri": "https://localhost:8080/"
        },
        "id": "qAcYIayNU9wZ",
        "outputId": "458de238-fd87-4fb7-a0df-40431c716e31"
      },
      "execution_count": null,
      "outputs": [
        {
          "output_type": "stream",
          "name": "stdout",
          "text": [
            "[0, 1, 8, 27, 64, 125, 216, 343, 512, 729, 1000, 1331, 1728, 2197, 2744, 3375, 4096, 4913, 5832, 6859, 8000, 9261, 10648, 12167, 13824, 15625, 17576, 19683, 21952, 24389, 27000, 29791, 32768, 35937, 39304, 42875, 46656, 50653, 54872, 59319, 64000, 68921, 74088, 79507, 85184, 91125, 97336, 103823, 110592, 117649, 125000]\n"
          ]
        }
      ]
    },
    {
      "cell_type": "code",
      "source": [
        "l1=[]\n",
        "for i in range(0,10):\n",
        "  i=i**3\n",
        "  l1.append(i)\n",
        "print(l1)"
      ],
      "metadata": {
        "colab": {
          "base_uri": "https://localhost:8080/"
        },
        "id": "labTX85oVSoV",
        "outputId": "60c75be4-b7db-4523-8b20-243a1d477b98"
      },
      "execution_count": null,
      "outputs": [
        {
          "output_type": "stream",
          "name": "stdout",
          "text": [
            "[0, 1, 8, 27, 64, 125, 216, 343, 512, 729]\n"
          ]
        }
      ]
    },
    {
      "cell_type": "code",
      "source": [
        "l1=[]\n",
        "for i in range(51):\n",
        "  i=i*i*i\n",
        "  l1.append(i)\n",
        "print(l1)"
      ],
      "metadata": {
        "colab": {
          "base_uri": "https://localhost:8080/"
        },
        "id": "wunRicJ_VZup",
        "outputId": "15de2f1c-34bd-48d4-e497-77e5e1e02090"
      },
      "execution_count": null,
      "outputs": [
        {
          "output_type": "stream",
          "name": "stdout",
          "text": [
            "[0, 1, 8, 27, 64, 125, 216, 343, 512, 729, 1000, 1331, 1728, 2197, 2744, 3375, 4096, 4913, 5832, 6859, 8000, 9261, 10648, 12167, 13824, 15625, 17576, 19683, 21952, 24389, 27000, 29791, 32768, 35937, 39304, 42875, 46656, 50653, 54872, 59319, 64000, 68921, 74088, 79507, 85184, 91125, 97336, 103823, 110592, 117649, 125000]\n"
          ]
        }
      ]
    },
    {
      "cell_type": "code",
      "source": [
        "#create a list of squares of numbers from 0 to 9 using list comprehension\n",
        "l1=[]\n",
        "for i in range(10):\n",
        "  i=i**2\n",
        "  l1.append(i)\n",
        "print(l1)\n",
        "\n",
        "l1=[i**2 for i in range(10)]\n",
        "print(l1)"
      ],
      "metadata": {
        "colab": {
          "base_uri": "https://localhost:8080/"
        },
        "id": "5NOwKgdyViiK",
        "outputId": "09c46cb5-bf33-45a0-ef2a-6c014a439348"
      },
      "execution_count": null,
      "outputs": [
        {
          "output_type": "stream",
          "name": "stdout",
          "text": [
            "[0, 1, 4, 9, 16, 25, 36, 49, 64, 81]\n",
            "[0, 1, 4, 9, 16, 25, 36, 49, 64, 81]\n"
          ]
        }
      ]
    },
    {
      "cell_type": "code",
      "source": [
        "l1=[i**3 for i in range(10)]\n",
        "print(l1)"
      ],
      "metadata": {
        "colab": {
          "base_uri": "https://localhost:8080/"
        },
        "id": "xdsDKfgTWvcW",
        "outputId": "693cfd84-8f44-402a-f0c5-1731197bf243"
      },
      "execution_count": null,
      "outputs": [
        {
          "output_type": "stream",
          "name": "stdout",
          "text": [
            "[0, 1, 8, 27, 64, 125, 216, 343, 512, 729]\n"
          ]
        }
      ]
    },
    {
      "cell_type": "code",
      "source": [
        "#create a list of even numbers from givien list numbers with list comprehension\n",
        "#numbers=[1,2,3,4,5,6,7]\n",
        "#even_numbers=#write your code to get even number\n",
        "#print(even_numbers)\n",
        "#output: [2,4,6]\n",
        "\n",
        "num=[1,2,3,4,5,6,7]\n",
        "even_num=[i for i in num if i%2==0]\n",
        "print(even_num)\n"
      ],
      "metadata": {
        "colab": {
          "base_uri": "https://localhost:8080/"
        },
        "id": "MDjAPYY0XU_4",
        "outputId": "02ca5dde-ebae-4f61-ec86-a677be9f3bbb"
      },
      "execution_count": null,
      "outputs": [
        {
          "output_type": "stream",
          "name": "stdout",
          "text": [
            "[2, 4, 6]\n"
          ]
        }
      ]
    },
    {
      "cell_type": "markdown",
      "source": [
        "ASCII value"
      ],
      "metadata": {
        "id": "sVSZ-9SLZ1kA"
      }
    },
    {
      "cell_type": "code",
      "source": [
        "char1='a'\n",
        "ord(char1)"
      ],
      "metadata": {
        "colab": {
          "base_uri": "https://localhost:8080/"
        },
        "id": "Vb3B7nDrZ4xA",
        "outputId": "7b3f12f8-72a7-431a-9fe9-7224df8e673c"
      },
      "execution_count": null,
      "outputs": [
        {
          "output_type": "execute_result",
          "data": {
            "text/plain": [
              "97"
            ]
          },
          "metadata": {},
          "execution_count": 27
        }
      ]
    },
    {
      "cell_type": "code",
      "source": [
        "char1='a'\n",
        "ACSII=ord(char1)"
      ],
      "metadata": {
        "id": "sLjBxM-haO-1"
      },
      "execution_count": null,
      "outputs": []
    },
    {
      "cell_type": "code",
      "source": [
        "char1='a'\n",
        "ASCII=ord(char1)\n",
        "print(char1)\n",
        "print(ASCII)"
      ],
      "metadata": {
        "colab": {
          "base_uri": "https://localhost:8080/"
        },
        "id": "jXCaKJmAadWt",
        "outputId": "b1bf1558-6c59-4de9-fe21-261023a5cbe2"
      },
      "execution_count": null,
      "outputs": [
        {
          "output_type": "stream",
          "name": "stdout",
          "text": [
            "a\n",
            "97\n"
          ]
        }
      ]
    },
    {
      "cell_type": "code",
      "source": [
        "#ASCII(a)-ASCII(A)=97-65=32\n",
        "#input:'a'-->ASCII=97\n",
        "#convert to upper case:97-32"
      ],
      "metadata": {
        "id": "m6_7Kn_ca1pz"
      },
      "execution_count": null,
      "outputs": []
    },
    {
      "cell_type": "code",
      "source": [
        "#Write a program to convert uppercase to lower case and vise versa\n",
        "char1='A'\n",
        "ASCII=ord(char1)\n",
        "print(char1)\n",
        "print(ASCII)"
      ],
      "metadata": {
        "colab": {
          "base_uri": "https://localhost:8080/"
        },
        "id": "jk-7U7qrbOu6",
        "outputId": "3a80f07b-0189-4301-e947-333ce12fb634"
      },
      "execution_count": null,
      "outputs": [
        {
          "output_type": "stream",
          "name": "stdout",
          "text": [
            "A\n",
            "65\n"
          ]
        }
      ]
    },
    {
      "cell_type": "code",
      "source": [
        "char1=input('Enter an albphabet: ')\n",
        "ASCII=ord(char1)\n",
        "\n",
        "#input is uppercase\n",
        "if ASCII>64 and ASCII<91:\n",
        "  print('input character is in uppercase')\n",
        "  ASCII += 32\n",
        "  small_case = chr(ASCII)\n",
        "  print(small_case)"
      ],
      "metadata": {
        "colab": {
          "base_uri": "https://localhost:8080/"
        },
        "id": "uj6c05XodBNL",
        "outputId": "e1befe68-17df-47fe-83cc-00f44fd178f6"
      },
      "execution_count": null,
      "outputs": [
        {
          "output_type": "stream",
          "name": "stdout",
          "text": [
            "Enter an albphabet: A\n",
            "input character is in uppercase\n",
            "a\n"
          ]
        }
      ]
    },
    {
      "cell_type": "code",
      "source": [
        "char1=input('Enter an albphabet: ')\n",
        "ASCII=ord(char1)\n",
        "\n",
        "#input is uppercase\n",
        "if ASCII>64 and ASCII<91:\n",
        "  print('input character is in uppercase')\n",
        "  ASCII += 32\n",
        "  small_case = chr(ASCII)\n",
        "  print(small_case)\n",
        "elif ASCII>123 and ASCII<96:\n",
        "  print('input character is in lowercase')\n",
        "  ASCII -= 32\n",
        "  small_case = chr(ASCII)\n",
        "  print(upper_case)\n",
        "else:\n",
        "  print('invalid input')"
      ],
      "metadata": {
        "id": "fPJGv0iIf0o9",
        "colab": {
          "base_uri": "https://localhost:8080/"
        },
        "outputId": "00352ded-3383-4a52-8dbc-58faeae094da"
      },
      "execution_count": null,
      "outputs": [
        {
          "output_type": "stream",
          "name": "stdout",
          "text": [
            "Enter an albphabet: A\n",
            "input character is in uppercase\n",
            "a\n"
          ]
        }
      ]
    },
    {
      "cell_type": "markdown",
      "source": [
        "LIST:Collection of items,where items are ordered,unchangeable,allow duplicates\n",
        "TUPLE: Collection of items,where items are ordered,unchangeable,allow duplicates\n",
        "SET: Collection of items, where items are unordered,unchangable,don't allow duplicates\n",
        "DICTIONARY: Collection of items,where items are ordered,changeable and don't allow duplicates"
      ],
      "metadata": {
        "id": "u_3EfybRlidy"
      }
    },
    {
      "cell_type": "code",
      "source": [
        "t1=(1,2,3,4,5)\n",
        "print(t1)"
      ],
      "metadata": {
        "colab": {
          "base_uri": "https://localhost:8080/"
        },
        "id": "ky2v6fCmlocq",
        "outputId": "5250b6e5-19b8-4d26-c785-d343bbc4ae20"
      },
      "execution_count": null,
      "outputs": [
        {
          "output_type": "stream",
          "name": "stdout",
          "text": [
            "(1, 2, 3, 4, 5)\n"
          ]
        }
      ]
    },
    {
      "cell_type": "markdown",
      "source": [
        "If you don't mention bracket it'll default consider it as tuple"
      ],
      "metadata": {
        "id": "ERzfvg5rnGzO"
      }
    },
    {
      "cell_type": "code",
      "source": [
        "t2=6,7,8\n",
        "print(t2)"
      ],
      "metadata": {
        "colab": {
          "base_uri": "https://localhost:8080/"
        },
        "id": "qSFiZwF8m5Cr",
        "outputId": "819760a6-feaa-44d1-b53f-21d9ef4b3971"
      },
      "execution_count": null,
      "outputs": [
        {
          "output_type": "stream",
          "name": "stdout",
          "text": [
            "(6, 7, 8)\n"
          ]
        }
      ]
    },
    {
      "cell_type": "code",
      "source": [
        "t2=6,7,8\n",
        "print(type(t2))"
      ],
      "metadata": {
        "colab": {
          "base_uri": "https://localhost:8080/"
        },
        "id": "xy-0iVGlnUml",
        "outputId": "7e9c45a9-55e8-4b7c-d476-7950c5325b13"
      },
      "execution_count": null,
      "outputs": [
        {
          "output_type": "stream",
          "name": "stdout",
          "text": [
            "<class 'tuple'>\n"
          ]
        }
      ]
    },
    {
      "cell_type": "code",
      "source": [
        "t3=('a')\n",
        "print(type(t3))"
      ],
      "metadata": {
        "colab": {
          "base_uri": "https://localhost:8080/"
        },
        "id": "mEJ57a4Wnfkb",
        "outputId": "98ede77b-2204-49af-8d95-1a5c9b1dda02"
      },
      "execution_count": null,
      "outputs": [
        {
          "output_type": "stream",
          "name": "stdout",
          "text": [
            "<class 'str'>\n"
          ]
        }
      ]
    },
    {
      "cell_type": "code",
      "source": [
        "t3=('a',)\n",
        "print(type(t3))"
      ],
      "metadata": {
        "colab": {
          "base_uri": "https://localhost:8080/"
        },
        "id": "RX_9lrt1nqAr",
        "outputId": "b8f70e84-0121-4bbd-aef8-b419dd5288e3"
      },
      "execution_count": null,
      "outputs": [
        {
          "output_type": "stream",
          "name": "stdout",
          "text": [
            "<class 'tuple'>\n"
          ]
        }
      ]
    },
    {
      "cell_type": "code",
      "source": [
        "t3='a',\n",
        "print(type(t3))"
      ],
      "metadata": {
        "colab": {
          "base_uri": "https://localhost:8080/"
        },
        "id": "vCIHuqoBnvVE",
        "outputId": "6238b445-e514-4630-95d6-656cf3b7845a"
      },
      "execution_count": null,
      "outputs": [
        {
          "output_type": "stream",
          "name": "stdout",
          "text": [
            "<class 'tuple'>\n"
          ]
        }
      ]
    },
    {
      "cell_type": "code",
      "source": [
        "#tuple containing numbers from 0 to 9\n",
        "t5=tuple(range(0,10))\n",
        "print(t5)\n",
        "print(type(t5))"
      ],
      "metadata": {
        "colab": {
          "base_uri": "https://localhost:8080/"
        },
        "id": "DHbsfV4Sn4L3",
        "outputId": "f9af5f54-98df-43e0-b621-a60183038db5"
      },
      "execution_count": null,
      "outputs": [
        {
          "output_type": "stream",
          "name": "stdout",
          "text": [
            "(0, 1, 2, 3, 4, 5, 6, 7, 8, 9)\n",
            "<class 'tuple'>\n"
          ]
        }
      ]
    },
    {
      "cell_type": "code",
      "source": [
        "l1=[1,2,3]\n",
        "t1=tuple(l1)\n",
        "print(t1)\n",
        "print(type(t1))"
      ],
      "metadata": {
        "colab": {
          "base_uri": "https://localhost:8080/"
        },
        "id": "gUW_L1I_oVZi",
        "outputId": "3bb92a95-5b25-4d91-c648-f7ead6009a5e"
      },
      "execution_count": null,
      "outputs": [
        {
          "output_type": "stream",
          "name": "stdout",
          "text": [
            "(1, 2, 3)\n",
            "<class 'tuple'>\n"
          ]
        }
      ]
    },
    {
      "cell_type": "code",
      "source": [
        "l2=list(t1)\n",
        "print(l2)\n",
        "print(type(l2))"
      ],
      "metadata": {
        "colab": {
          "base_uri": "https://localhost:8080/"
        },
        "id": "pwEgK2fgoqF2",
        "outputId": "ebaaa100-c2cc-4987-acdb-6df6edb4deeb"
      },
      "execution_count": null,
      "outputs": [
        {
          "output_type": "stream",
          "name": "stdout",
          "text": [
            "[1, 2, 3]\n",
            "<class 'list'>\n"
          ]
        }
      ]
    },
    {
      "cell_type": "code",
      "source": [
        "#Items are ordered\n",
        "t1=1,2,3,4\n",
        "print(t1)\n",
        "print(t1[2])\n",
        "print(t5[2:4])\n",
        "print(t1[::-1])"
      ],
      "metadata": {
        "colab": {
          "base_uri": "https://localhost:8080/"
        },
        "id": "M26OMckEpAzD",
        "outputId": "c8fb32e1-d2dc-41dd-e422-efde98dd8f43"
      },
      "execution_count": null,
      "outputs": [
        {
          "output_type": "stream",
          "name": "stdout",
          "text": [
            "(1, 2, 3, 4)\n",
            "3\n",
            "(2, 3)\n",
            "(4, 3, 2, 1)\n"
          ]
        }
      ]
    },
    {
      "cell_type": "markdown",
      "source": [
        "for below program tuple is not changable"
      ],
      "metadata": {
        "id": "VXJiObUOqhIy"
      }
    },
    {
      "cell_type": "code",
      "source": [
        "t2=1,2,3,4,5\n",
        "print(t2[2])\n",
        "t2[2]=10"
      ],
      "metadata": {
        "colab": {
          "base_uri": "https://localhost:8080/",
          "height": 217
        },
        "id": "C_Pdx5kHqPI-",
        "outputId": "443b3781-1471-4d04-b74f-7fc1a13d3b29"
      },
      "execution_count": null,
      "outputs": [
        {
          "output_type": "stream",
          "name": "stdout",
          "text": [
            "3\n"
          ]
        },
        {
          "output_type": "error",
          "ename": "TypeError",
          "evalue": "ignored",
          "traceback": [
            "\u001b[0;31m---------------------------------------------------------------------------\u001b[0m",
            "\u001b[0;31mTypeError\u001b[0m                                 Traceback (most recent call last)",
            "\u001b[0;32m<ipython-input-52-09bb4cecf93d>\u001b[0m in \u001b[0;36m<module>\u001b[0;34m\u001b[0m\n\u001b[1;32m      1\u001b[0m \u001b[0mt2\u001b[0m\u001b[0;34m=\u001b[0m\u001b[0;36m1\u001b[0m\u001b[0;34m,\u001b[0m\u001b[0;36m2\u001b[0m\u001b[0;34m,\u001b[0m\u001b[0;36m3\u001b[0m\u001b[0;34m,\u001b[0m\u001b[0;36m4\u001b[0m\u001b[0;34m,\u001b[0m\u001b[0;36m5\u001b[0m\u001b[0;34m\u001b[0m\u001b[0;34m\u001b[0m\u001b[0m\n\u001b[1;32m      2\u001b[0m \u001b[0mprint\u001b[0m\u001b[0;34m(\u001b[0m\u001b[0mt2\u001b[0m\u001b[0;34m[\u001b[0m\u001b[0;36m2\u001b[0m\u001b[0;34m]\u001b[0m\u001b[0;34m)\u001b[0m\u001b[0;34m\u001b[0m\u001b[0;34m\u001b[0m\u001b[0m\n\u001b[0;32m----> 3\u001b[0;31m \u001b[0mt2\u001b[0m\u001b[0;34m[\u001b[0m\u001b[0;36m2\u001b[0m\u001b[0;34m]\u001b[0m\u001b[0;34m=\u001b[0m\u001b[0;36m10\u001b[0m\u001b[0;34m\u001b[0m\u001b[0;34m\u001b[0m\u001b[0m\n\u001b[0m",
            "\u001b[0;31mTypeError\u001b[0m: 'tuple' object does not support item assignment"
          ]
        }
      ]
    },
    {
      "cell_type": "markdown",
      "source": [
        "To add an element to a tuple, first you need to convert it to list later modify and convert it to tuple."
      ],
      "metadata": {
        "id": "wYtCL8sIrzFX"
      }
    },
    {
      "cell_type": "code",
      "source": [
        "t1=1,2,3,4\n",
        "l1=list(t1)\n",
        "print(l1)\n",
        "l1.append(5)\n",
        "print(l1)\n",
        "t1=tuple(l1)\n",
        "print(t1)"
      ],
      "metadata": {
        "colab": {
          "base_uri": "https://localhost:8080/"
        },
        "id": "xTRtM6gIqvpT",
        "outputId": "60c3a5bc-ac32-4a4c-bd57-9509d74de7db"
      },
      "execution_count": null,
      "outputs": [
        {
          "output_type": "stream",
          "name": "stdout",
          "text": [
            "[1, 2, 3, 4]\n",
            "[1, 2, 3, 4, 5]\n",
            "(1, 2, 3, 4, 5)\n"
          ]
        }
      ]
    },
    {
      "cell_type": "markdown",
      "source": [
        "SET: Collection of items, where items are unordered,unchangable,don't allow duplicates\n",
        "Sets are 10X faster compared to lists and tuples"
      ],
      "metadata": {
        "id": "HwEh0rw6sIii"
      }
    },
    {
      "cell_type": "code",
      "source": [
        "s1={1,2,3}\n",
        "print(type(s1))"
      ],
      "metadata": {
        "colab": {
          "base_uri": "https://localhost:8080/"
        },
        "id": "orfAkxcYsxaX",
        "outputId": "13964d56-480a-46d3-cc2e-e72441e093aa"
      },
      "execution_count": null,
      "outputs": [
        {
          "output_type": "stream",
          "name": "stdout",
          "text": [
            "<class 'set'>\n"
          ]
        }
      ]
    },
    {
      "cell_type": "code",
      "source": [
        "s1={1,2,3}\n",
        "print(type(s1))\n",
        "for i in s1:\n",
        "  print(i,end='\\n')"
      ],
      "metadata": {
        "colab": {
          "base_uri": "https://localhost:8080/"
        },
        "id": "X46mVdsytg5M",
        "outputId": "17a3212c-d869-4092-d77a-956e828dd3cb"
      },
      "execution_count": null,
      "outputs": [
        {
          "output_type": "stream",
          "name": "stdout",
          "text": [
            "<class 'set'>\n",
            "1\n",
            "2\n",
            "3\n"
          ]
        }
      ]
    },
    {
      "cell_type": "markdown",
      "source": [
        "Write a program to search for an item in a set\n",
        "Input1: s1={1,2,3,4,5}\n",
        "Input2: s2\n",
        "output:Item is not found"
      ],
      "metadata": {
        "id": "rsb1YqkZuLrR"
      }
    },
    {
      "cell_type": "code",
      "source": [
        "s1={1,2,3,4,5}\n",
        "search_item=int(input('Enter item to search for: '))\n",
        "for item in s1:\n",
        "  if item == search_item:\n",
        "    print('item found')\n",
        "  else:\n",
        "    print('Item not found')\n"
      ],
      "metadata": {
        "colab": {
          "base_uri": "https://localhost:8080/"
        },
        "id": "62x95d-wuJUV",
        "outputId": "86f05637-6a80-41b4-c5f9-18137949bdf8"
      },
      "execution_count": null,
      "outputs": [
        {
          "output_type": "stream",
          "name": "stdout",
          "text": [
            "Enter item to search for: 1\n",
            "item found\n",
            "Item not found\n",
            "Item not found\n",
            "Item not found\n",
            "Item not found\n"
          ]
        }
      ]
    },
    {
      "cell_type": "code",
      "source": [
        "#set methods\n",
        "s1={1,2,3}\n",
        "s2={'a','b','c'}\n",
        "s1.update(s2)\n",
        "print(s1)"
      ],
      "metadata": {
        "colab": {
          "base_uri": "https://localhost:8080/"
        },
        "id": "rhS07oAIvtSl",
        "outputId": "9bbae66e-9c4c-4445-c0e8-9b4ee974b547"
      },
      "execution_count": null,
      "outputs": [
        {
          "output_type": "stream",
          "name": "stdout",
          "text": [
            "{1, 2, 3, 'a', 'b', 'c'}\n"
          ]
        }
      ]
    },
    {
      "cell_type": "code",
      "source": [
        "s1={1,2,3}\n",
        "s2={'a','b','c'}\n",
        "s1.update(s2)\n",
        "print(s1)\n",
        "s1.remove('c')\n",
        "print(s1)"
      ],
      "metadata": {
        "colab": {
          "base_uri": "https://localhost:8080/"
        },
        "id": "rTdcJrbPwGxz",
        "outputId": "fbdb0d69-9a06-4d8b-929d-33ae08341500"
      },
      "execution_count": null,
      "outputs": [
        {
          "output_type": "stream",
          "name": "stdout",
          "text": [
            "{1, 2, 3, 'a', 'b', 'c'}\n",
            "{1, 2, 3, 'a', 'b'}\n"
          ]
        }
      ]
    },
    {
      "cell_type": "markdown",
      "source": [
        "Operations of a set:\n",
        "Intersection,Union,Symmetric difference"
      ],
      "metadata": {
        "id": "YI0mOXbDxBQq"
      }
    },
    {
      "cell_type": "code",
      "source": [
        "s1={'a','b','c','d'}\n",
        "s2={'c','d','e','f','g'}\n",
        "\n",
        "#union\n",
        "s3=s1.union(s2)\n",
        "print(s3)\n",
        "#intersection\n",
        "s4=s1.intersection(s2)\n",
        "print(s4)\n",
        "#symmetric difference\n",
        "s5=s1.symmetric_difference(s2)\n",
        "print('s1-s2:',s5)\n",
        "s6=s2.symmetric_difference(s1)\n",
        "print('s2-s1:',s6)"
      ],
      "metadata": {
        "colab": {
          "base_uri": "https://localhost:8080/"
        },
        "id": "XWDANo16w1H0",
        "outputId": "df9c8e84-ef27-4986-9f00-f093caf5af06"
      },
      "execution_count": null,
      "outputs": [
        {
          "output_type": "stream",
          "name": "stdout",
          "text": [
            "{'a', 'd', 'b', 'c', 'e', 'f', 'g'}\n",
            "{'c', 'd'}\n",
            "s1-s2: {'b', 'a', 'f', 'g', 'e'}\n",
            "s2-s1: {'a', 'b', 'e', 'f', 'g'}\n"
          ]
        }
      ]
    },
    {
      "cell_type": "code",
      "source": [
        "#program to find total time wasted purpousfully by internship candidates\n",
        "break_end_time = '11:35'\n",
        "actual_break_end_time = '11:35'\n",
        "total_break_time = 15\n",
        "\n",
        "break_end_time_sep=break_end_time.split(sep=':')\n",
        "actual_break_end_time_sep=actual_break_end_time.split(sep=':')\n",
        "\n",
        "print(break_end_time_sep[0],break_end_time_sep[1])\n",
        "print(actual_break_end_time_sep[0],actual_break_end_time_sep[1])\n",
        "\n",
        "diff_hrs=int(actual_break_end_time_sep[0])-int(actual_break_end_time_sep[0])\n",
        "diff_mins=int(actual_break_end_time_sep[1])-int(actual_break_end_time_sep[1])\n",
        "print('Difference in hours:',diff_hrs)\n",
        "print('Difference in minutes:',diff_mins)\n",
        "\n",
        "exceed_time = diff_hrs*60 + diff_mins\n",
        "print(f'Exceeded time in mins: {exceed_time}')\n",
        "\n",
        "exceed_time_in_perc=100*(exceed_time/total_break_time)\n",
        "printf(f'Exceeded time in %: {exceed_time_in_perc}')\n",
        "\n",
        "print('Total wasted time in hrs:{exceed_time*15*3/60}')\n",
        "print('Total wasted time in hrs:{exceed_time*15*3/60}')"
      ],
      "metadata": {
        "colab": {
          "base_uri": "https://localhost:8080/",
          "height": 321
        },
        "id": "ateXbVH-SPrb",
        "outputId": "da63a6ca-8b58-434a-b96e-f3f51b603f2b"
      },
      "execution_count": null,
      "outputs": [
        {
          "output_type": "stream",
          "name": "stdout",
          "text": [
            "11 35\n",
            "11 35\n",
            "Difference in hours: 0\n",
            "Difference in minutes: 0\n",
            "Exceeded time in mins: 0\n"
          ]
        },
        {
          "output_type": "error",
          "ename": "NameError",
          "evalue": "ignored",
          "traceback": [
            "\u001b[0;31m---------------------------------------------------------------------------\u001b[0m",
            "\u001b[0;31mNameError\u001b[0m                                 Traceback (most recent call last)",
            "\u001b[0;32m<ipython-input-5-fac8b05c8aee>\u001b[0m in \u001b[0;36m<module>\u001b[0;34m\u001b[0m\n\u001b[1;32m     19\u001b[0m \u001b[0;34m\u001b[0m\u001b[0m\n\u001b[1;32m     20\u001b[0m \u001b[0mexceed_time_in_perc\u001b[0m\u001b[0;34m=\u001b[0m\u001b[0;36m100\u001b[0m\u001b[0;34m*\u001b[0m\u001b[0;34m(\u001b[0m\u001b[0mexceed_time\u001b[0m\u001b[0;34m/\u001b[0m\u001b[0mtotal_break_time\u001b[0m\u001b[0;34m)\u001b[0m\u001b[0;34m\u001b[0m\u001b[0;34m\u001b[0m\u001b[0m\n\u001b[0;32m---> 21\u001b[0;31m \u001b[0mprintf\u001b[0m\u001b[0;34m(\u001b[0m\u001b[0;34mf'Exceeded time in %: {exceed_time_in_perc}'\u001b[0m\u001b[0;34m)\u001b[0m\u001b[0;34m\u001b[0m\u001b[0;34m\u001b[0m\u001b[0m\n\u001b[0m\u001b[1;32m     22\u001b[0m \u001b[0;34m\u001b[0m\u001b[0m\n\u001b[1;32m     23\u001b[0m \u001b[0mprint\u001b[0m\u001b[0;34m(\u001b[0m\u001b[0;34m'Total wasted time in hrs:{exceed_time*15*3/60}'\u001b[0m\u001b[0;34m)\u001b[0m\u001b[0;34m\u001b[0m\u001b[0;34m\u001b[0m\u001b[0m\n",
            "\u001b[0;31mNameError\u001b[0m: name 'printf' is not defined"
          ]
        }
      ]
    },
    {
      "cell_type": "markdown",
      "source": [
        "DICTIONARY: Collection of items,where items are ordered,changeable and don't allow duplicates\n",
        "Items are in key:value pair"
      ],
      "metadata": {
        "id": "9IF5ZH4YX-4X"
      }
    },
    {
      "cell_type": "code",
      "source": [
        "d1={\n",
        "    'Name':'srusti',\n",
        "    'Age':21,\n",
        "    'City':'Ckm'\n",
        "}\n",
        "print(d1)\n",
        "print(d1['Name'])"
      ],
      "metadata": {
        "colab": {
          "base_uri": "https://localhost:8080/"
        },
        "id": "ez_zWw8pYcno",
        "outputId": "67103745-c12c-4576-d7b1-55dca0926835"
      },
      "execution_count": null,
      "outputs": [
        {
          "output_type": "stream",
          "name": "stdout",
          "text": [
            "{'Name': 'srusti', 'Age': 21, 'City': 'Ckm'}\n",
            "srusti\n"
          ]
        }
      ]
    },
    {
      "cell_type": "code",
      "source": [
        "d2={\n",
        "    2 :'Name',\n",
        "    3 :'Age'\n",
        "}\n",
        "print(d2)"
      ],
      "metadata": {
        "colab": {
          "base_uri": "https://localhost:8080/"
        },
        "id": "nAlHFyAIZExe",
        "outputId": "25420e5e-7d45-47ef-d8e7-9e98f8b94e23"
      },
      "execution_count": null,
      "outputs": [
        {
          "output_type": "stream",
          "name": "stdout",
          "text": [
            "{2: 'Name', 3: 'Age'}\n"
          ]
        }
      ]
    },
    {
      "cell_type": "code",
      "source": [
        "d2={\n",
        "    2 :[1,2,3],\n",
        "    3 :'Age'\n",
        "}\n",
        "print(d2)"
      ],
      "metadata": {
        "colab": {
          "base_uri": "https://localhost:8080/"
        },
        "id": "nhY243EOZjr3",
        "outputId": "c62ea004-1fcc-45ce-bf9d-05821b45f00e"
      },
      "execution_count": null,
      "outputs": [
        {
          "output_type": "stream",
          "name": "stdout",
          "text": [
            "{2: [1, 2, 3], 3: 'Age'}\n"
          ]
        }
      ]
    },
    {
      "cell_type": "code",
      "source": [
        "print(d2[2])"
      ],
      "metadata": {
        "colab": {
          "base_uri": "https://localhost:8080/"
        },
        "id": "BrAIfpmVZwln",
        "outputId": "3f49fa93-17fa-46ad-846d-bd14f3e6fc92"
      },
      "execution_count": null,
      "outputs": [
        {
          "output_type": "stream",
          "name": "stdout",
          "text": [
            "[1, 2, 3]\n"
          ]
        }
      ]
    },
    {
      "cell_type": "code",
      "source": [
        "print(d2[2][2])"
      ],
      "metadata": {
        "colab": {
          "base_uri": "https://localhost:8080/"
        },
        "id": "2WJM7jP5Z--J",
        "outputId": "b6c4225e-b058-4172-aad9-c7eb5b0cd6fa"
      },
      "execution_count": null,
      "outputs": [
        {
          "output_type": "stream",
          "name": "stdout",
          "text": [
            "3\n"
          ]
        }
      ]
    },
    {
      "cell_type": "markdown",
      "source": [
        "Dictionary Methods"
      ],
      "metadata": {
        "id": "YQl6scxCaJbO"
      }
    },
    {
      "cell_type": "code",
      "source": [
        "#get\n",
        "d1={\n",
        "    'key1':'FirstValue',\n",
        "    'key2':'SecondValue'\n",
        "}\n",
        "print(d1.get('key1'))\n",
        "\n",
        "#values\n",
        "print(d1.values())\n",
        "#keys\n",
        "print(d1.keys())\n",
        "#items\n",
        "print(d1.items())"
      ],
      "metadata": {
        "colab": {
          "base_uri": "https://localhost:8080/"
        },
        "id": "jNyfy1oMaNdD",
        "outputId": "364a98db-147b-4135-88f3-0a26df67c6e5"
      },
      "execution_count": null,
      "outputs": [
        {
          "output_type": "stream",
          "name": "stdout",
          "text": [
            "FirstValue\n",
            "dict_values(['FirstValue', 'SecondValue'])\n",
            "dict_keys(['key1', 'key2'])\n",
            "dict_items([('key1', 'FirstValue'), ('key2', 'SecondValue')])\n"
          ]
        }
      ]
    },
    {
      "cell_type": "code",
      "source": [
        "d1={\n",
        "    'key1':'FirstValue',\n",
        "    'key2':'SecondValue'\n",
        "}\n",
        "#write program to make 'key1' contain SecondValue\n",
        "d1['key1']='SecondValue'\n",
        "print(d1)"
      ],
      "metadata": {
        "colab": {
          "base_uri": "https://localhost:8080/"
        },
        "id": "JwtggWA-bVRJ",
        "outputId": "22c950e2-a4d1-4723-dbb1-5222f1258d13"
      },
      "execution_count": null,
      "outputs": [
        {
          "output_type": "stream",
          "name": "stdout",
          "text": [
            "{'key1': 'SecondValue', 'key2': 'SecondValue'}\n"
          ]
        }
      ]
    },
    {
      "cell_type": "code",
      "source": [
        "#delete\n",
        "del(d1)\n",
        "print(d1)"
      ],
      "metadata": {
        "colab": {
          "base_uri": "https://localhost:8080/",
          "height": 200
        },
        "id": "n7edi-kqb5Uk",
        "outputId": "ef50144c-ed40-452b-c532-6fe145cdbaec"
      },
      "execution_count": null,
      "outputs": [
        {
          "output_type": "error",
          "ename": "NameError",
          "evalue": "ignored",
          "traceback": [
            "\u001b[0;31m---------------------------------------------------------------------------\u001b[0m",
            "\u001b[0;31mNameError\u001b[0m                                 Traceback (most recent call last)",
            "\u001b[0;32m<ipython-input-19-744fe52a0834>\u001b[0m in \u001b[0;36m<module>\u001b[0;34m\u001b[0m\n\u001b[1;32m      1\u001b[0m \u001b[0;31m#delete\u001b[0m\u001b[0;34m\u001b[0m\u001b[0;34m\u001b[0m\u001b[0;34m\u001b[0m\u001b[0m\n\u001b[0;32m----> 2\u001b[0;31m \u001b[0;32mdel\u001b[0m\u001b[0;34m(\u001b[0m\u001b[0md1\u001b[0m\u001b[0;34m)\u001b[0m\u001b[0;34m\u001b[0m\u001b[0;34m\u001b[0m\u001b[0m\n\u001b[0m\u001b[1;32m      3\u001b[0m \u001b[0mprint\u001b[0m\u001b[0;34m(\u001b[0m\u001b[0md1\u001b[0m\u001b[0;34m)\u001b[0m\u001b[0;34m\u001b[0m\u001b[0;34m\u001b[0m\u001b[0m\n",
            "\u001b[0;31mNameError\u001b[0m: name 'd1' is not defined"
          ]
        }
      ]
    },
    {
      "cell_type": "code",
      "source": [
        "d1={\n",
        "    'Name':'Python',\n",
        "    'LastName':'Program',\n",
        "    'Age':21,\n",
        "    'Module':'True'\n",
        "}\n",
        "for i,j in d1.items():\n",
        "  print(i,j)\n",
        "for i,j in d1.items():\n",
        "  print(f'{i}:{j}')"
      ],
      "metadata": {
        "colab": {
          "base_uri": "https://localhost:8080/"
        },
        "id": "sTZolnMncdII",
        "outputId": "188094d3-8fc4-47c1-837f-db6d28fa2fb9"
      },
      "execution_count": null,
      "outputs": [
        {
          "output_type": "stream",
          "name": "stdout",
          "text": [
            "Name Python\n",
            "LastName Program\n",
            "Age 21\n",
            "Module True\n",
            "Name:Python\n",
            "LastName:Program\n",
            "Age:21\n",
            "Module:True\n"
          ]
        }
      ]
    },
    {
      "cell_type": "markdown",
      "source": [
        "FUNCTION:User defined block of code which runs when called"
      ],
      "metadata": {
        "id": "10Uzq7cKdkJJ"
      }
    },
    {
      "cell_type": "code",
      "source": [
        "def function_name():\n",
        "  #function_code\n",
        "\n",
        "function_name(val1,val2)"
      ],
      "metadata": {
        "id": "oQF3NjoIduNQ"
      },
      "execution_count": null,
      "outputs": []
    },
    {
      "cell_type": "code",
      "source": [
        "def print_name(name='user'):\n",
        "  print(name)\n",
        "print_name()"
      ],
      "metadata": {
        "colab": {
          "base_uri": "https://localhost:8080/"
        },
        "id": "qb4y0c_VeEHV",
        "outputId": "babf6beb-d648-4bc4-852c-1076a768e00e"
      },
      "execution_count": null,
      "outputs": [
        {
          "output_type": "stream",
          "name": "stdout",
          "text": [
            "user\n"
          ]
        }
      ]
    },
    {
      "cell_type": "code",
      "source": [
        "def print_name(name='user'):\n",
        "  print(name)\n",
        "print_name('Python')"
      ],
      "metadata": {
        "colab": {
          "base_uri": "https://localhost:8080/"
        },
        "id": "m1KdQywvem5-",
        "outputId": "5bc0e7cd-c29d-4cad-ef67-3479c9fd2bb0"
      },
      "execution_count": null,
      "outputs": [
        {
          "output_type": "stream",
          "name": "stdout",
          "text": [
            "Python\n"
          ]
        }
      ]
    },
    {
      "cell_type": "code",
      "source": [
        "def print_name(name='user'):\n",
        "  print(name)\n",
        "print_name('name1','name2')"
      ],
      "metadata": {
        "colab": {
          "base_uri": "https://localhost:8080/",
          "height": 200
        },
        "id": "LiYht5unevTA",
        "outputId": "ffad2ae3-307f-4014-8f43-983f2c3fdbfa"
      },
      "execution_count": null,
      "outputs": [
        {
          "output_type": "error",
          "ename": "TypeError",
          "evalue": "ignored",
          "traceback": [
            "\u001b[0;31m---------------------------------------------------------------------------\u001b[0m",
            "\u001b[0;31mTypeError\u001b[0m                                 Traceback (most recent call last)",
            "\u001b[0;32m<ipython-input-28-8cdaa43d1646>\u001b[0m in \u001b[0;36m<module>\u001b[0;34m\u001b[0m\n\u001b[1;32m      1\u001b[0m \u001b[0;32mdef\u001b[0m \u001b[0mprint_name\u001b[0m\u001b[0;34m(\u001b[0m\u001b[0mname\u001b[0m\u001b[0;34m=\u001b[0m\u001b[0;34m'user'\u001b[0m\u001b[0;34m)\u001b[0m\u001b[0;34m:\u001b[0m\u001b[0;34m\u001b[0m\u001b[0;34m\u001b[0m\u001b[0m\n\u001b[1;32m      2\u001b[0m   \u001b[0mprint\u001b[0m\u001b[0;34m(\u001b[0m\u001b[0mname\u001b[0m\u001b[0;34m)\u001b[0m\u001b[0;34m\u001b[0m\u001b[0;34m\u001b[0m\u001b[0m\n\u001b[0;32m----> 3\u001b[0;31m \u001b[0mprint_name\u001b[0m\u001b[0;34m(\u001b[0m\u001b[0;34m'name1'\u001b[0m\u001b[0;34m,\u001b[0m\u001b[0;34m'name2'\u001b[0m\u001b[0;34m)\u001b[0m\u001b[0;34m\u001b[0m\u001b[0;34m\u001b[0m\u001b[0m\n\u001b[0m",
            "\u001b[0;31mTypeError\u001b[0m: print_name() takes from 0 to 1 positional arguments but 2 were given"
          ]
        }
      ]
    },
    {
      "cell_type": "markdown",
      "source": [
        "In the above code you'll get error if you write more than one "
      ],
      "metadata": {
        "id": "7C-Rn2UPe5fx"
      }
    },
    {
      "cell_type": "code",
      "source": [
        "def print_name(*name):\n",
        "  for i in name:\n",
        "    print(name)\n",
        "print_name('name1','name2','name3')"
      ],
      "metadata": {
        "colab": {
          "base_uri": "https://localhost:8080/"
        },
        "id": "pHFbI3E1fL27",
        "outputId": "f9e254e4-65fa-4872-9119-3940771ffa3d"
      },
      "execution_count": null,
      "outputs": [
        {
          "output_type": "stream",
          "name": "stdout",
          "text": [
            "('name1', 'name2', 'name3')\n",
            "('name1', 'name2', 'name3')\n",
            "('name1', 'name2', 'name3')\n"
          ]
        }
      ]
    },
    {
      "cell_type": "code",
      "source": [
        "#Write a function which takes your weight on Earth and\n",
        "#returns the weight on Moon and Mars\n",
        "#weight =mass*acceleration due to gravity\n",
        "#acceleration due to gravity = 9.81 m/s2\n",
        "#weight on moon=mass*acceleration due to gravity_on_moon\n",
        "#acceleration due to gravity_om_moon=1.621\n",
        "#acceleration due to gravity_om_mars=3.711\n",
        "def find_weight(weight):\n",
        "  mass = weight/9.81\n",
        "\n",
        "  weight_moon = mass*1.621\n",
        "  weight_mars = mass*3.711\n",
        "  return weight_moon,weight_mars\n",
        "weight = float(input('Enter weight in kg: '))\n",
        "w_moon,W_mars=find_weight(weight)\n",
        "print(f'Moon:{w_moon}')\n",
        "print(f'Mars:{w_mars}')"
      ],
      "metadata": {
        "colab": {
          "base_uri": "https://localhost:8080/",
          "height": 235
        },
        "id": "oV6_kV8Cf8ax",
        "outputId": "8bf6b158-ee8e-47a7-856e-0afb6681cb30"
      },
      "execution_count": null,
      "outputs": [
        {
          "output_type": "stream",
          "name": "stdout",
          "text": [
            "Enter weight in kg: 42\n",
            "Moon:6.94006116207951\n"
          ]
        },
        {
          "output_type": "error",
          "ename": "NameError",
          "evalue": "ignored",
          "traceback": [
            "\u001b[0;31m---------------------------------------------------------------------------\u001b[0m",
            "\u001b[0;31mNameError\u001b[0m                                 Traceback (most recent call last)",
            "\u001b[0;32m<ipython-input-32-c103ac3c2c24>\u001b[0m in \u001b[0;36m<module>\u001b[0;34m\u001b[0m\n\u001b[1;32m     15\u001b[0m \u001b[0mw_moon\u001b[0m\u001b[0;34m,\u001b[0m\u001b[0mW_mars\u001b[0m\u001b[0;34m=\u001b[0m\u001b[0mfind_weight\u001b[0m\u001b[0;34m(\u001b[0m\u001b[0mweight\u001b[0m\u001b[0;34m)\u001b[0m\u001b[0;34m\u001b[0m\u001b[0;34m\u001b[0m\u001b[0m\n\u001b[1;32m     16\u001b[0m \u001b[0mprint\u001b[0m\u001b[0;34m(\u001b[0m\u001b[0;34mf'Moon:{w_moon}'\u001b[0m\u001b[0;34m)\u001b[0m\u001b[0;34m\u001b[0m\u001b[0;34m\u001b[0m\u001b[0m\n\u001b[0;32m---> 17\u001b[0;31m \u001b[0mprint\u001b[0m\u001b[0;34m(\u001b[0m\u001b[0;34mf'Mars:{w_mars}'\u001b[0m\u001b[0;34m)\u001b[0m\u001b[0;34m\u001b[0m\u001b[0;34m\u001b[0m\u001b[0m\n\u001b[0m",
            "\u001b[0;31mNameError\u001b[0m: name 'w_mars' is not defined"
          ]
        }
      ]
    }
  ]
}