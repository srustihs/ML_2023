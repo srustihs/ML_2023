{
  "nbformat": 4,
  "nbformat_minor": 0,
  "metadata": {
    "colab": {
      "provenance": [],
      "authorship_tag": "ABX9TyME1DXwubufPFpTVi8tF2Dx",
      "include_colab_link": true
    },
    "kernelspec": {
      "name": "python3",
      "display_name": "Python 3"
    },
    "language_info": {
      "name": "python"
    }
  },
  "cells": [
    {
      "cell_type": "markdown",
      "metadata": {
        "id": "view-in-github",
        "colab_type": "text"
      },
      "source": [
        "<a href=\"https://colab.research.google.com/github/srustihs/ML_2023/blob/main/Numpy.ipynb\" target=\"_parent\"><img src=\"https://colab.research.google.com/assets/colab-badge.svg\" alt=\"Open In Colab\"/></a>"
      ]
    },
    {
      "cell_type": "markdown",
      "source": [
        "Numpy or nd\n",
        "Numpy is a python library for creating and manipulating matrics, the main data structure used by ML algorithms.Metrics are mathematical objects used to store values in rows and columns.\n",
        "NumPy is a powerful  library in python that provides support for array and matrics"
      ],
      "metadata": {
        "id": "sRKLNoQfjXAL"
      }
    },
    {
      "cell_type": "code",
      "source": [
        "import numpy as np"
      ],
      "metadata": {
        "id": "s9vUwMePjZ9E"
      },
      "execution_count": null,
      "outputs": []
    },
    {
      "cell_type": "code",
      "source": [
        "#create numpy or nd array\n",
        "arr=np.array([1,2,3,4])\n",
        "print(arr)\n",
        "print(type(arr))"
      ],
      "metadata": {
        "colab": {
          "base_uri": "https://localhost:8080/"
        },
        "id": "3VtSj9xKln_u",
        "outputId": "302b74cb-15b5-4c85-84e9-fd38d431cdd8"
      },
      "execution_count": null,
      "outputs": [
        {
          "output_type": "stream",
          "name": "stdout",
          "text": [
            "[1 2 3 4]\n",
            "<class 'numpy.ndarray'>\n"
          ]
        }
      ]
    },
    {
      "cell_type": "code",
      "source": [
        "arr1=np.array(24)\n",
        "print(arr1)\n",
        "print(arr1.ndim) #for finding dimension of an array"
      ],
      "metadata": {
        "colab": {
          "base_uri": "https://localhost:8080/"
        },
        "id": "4WeDHYf7mEIa",
        "outputId": "27c83678-60f8-4ecf-822b-515f05f0f570"
      },
      "execution_count": null,
      "outputs": [
        {
          "output_type": "stream",
          "name": "stdout",
          "text": [
            "24\n",
            "0\n"
          ]
        }
      ]
    },
    {
      "cell_type": "code",
      "source": [
        "arr1=np.array(24)\n",
        "print(arr1)\n",
        "print('dimension: ',arr1.ndim)\n",
        "print('shape: ',arr1.shape)"
      ],
      "metadata": {
        "colab": {
          "base_uri": "https://localhost:8080/"
        },
        "id": "t-lmxbPimXji",
        "outputId": "cc8b7d80-641f-43d0-8f65-ed43f649cede"
      },
      "execution_count": null,
      "outputs": [
        {
          "output_type": "stream",
          "name": "stdout",
          "text": [
            "24\n",
            "dimension:  0\n",
            "shape:  ()\n"
          ]
        }
      ]
    },
    {
      "cell_type": "code",
      "source": [
        "#1-D array: To create a one-dimensional array specify a layer of square brackets\n",
        "arr1=np.array([2,3,4])\n",
        "print(arr1)\n",
        "print('dimension:',arr1.ndim)\n",
        "print('shape:',arr1.shape)"
      ],
      "metadata": {
        "colab": {
          "base_uri": "https://localhost:8080/"
        },
        "id": "TsU_DI5Tmv6O",
        "outputId": "60d2dbf6-ef8a-4cc1-cde5-ec409654b165"
      },
      "execution_count": null,
      "outputs": [
        {
          "output_type": "stream",
          "name": "stdout",
          "text": [
            "[2 3 4]\n",
            "dimension: 1\n",
            "shape: (3,)\n"
          ]
        }
      ]
    },
    {
      "cell_type": "markdown",
      "source": [
        "bcz no layer at all"
      ],
      "metadata": {
        "id": "X3iADnJnn7pR"
      }
    },
    {
      "cell_type": "code",
      "source": [
        "#2-D array\n",
        "arr1=np.array([[2,3,4],[4,5,6]])\n",
        "print(arr1)\n",
        "print('dimension:',arr1.ndim)\n",
        "print('shape:',arr1.shape)"
      ],
      "metadata": {
        "colab": {
          "base_uri": "https://localhost:8080/"
        },
        "id": "l8TYJWa5n-KD",
        "outputId": "8f5eb7f7-5332-4d5c-e834-4aa62f64f679"
      },
      "execution_count": null,
      "outputs": [
        {
          "output_type": "stream",
          "name": "stdout",
          "text": [
            "[[2 3 4]\n",
            " [4 5 6]]\n",
            "dimension: 2\n",
            "shape: (2, 3)\n"
          ]
        }
      ]
    },
    {
      "cell_type": "markdown",
      "source": [
        "Shape=row(layer),column "
      ],
      "metadata": {
        "id": "MkMiwnkmoVqn"
      }
    },
    {
      "cell_type": "code",
      "source": [
        "#create a 2D array whose shape=(3,3)\n",
        "arr1=np.array([[2,3,4],[4,5,6],[7,8,9]])\n",
        "print(arr1)\n",
        "print('dimension:',arr1.ndim)\n",
        "print('shape:',arr1.shape)"
      ],
      "metadata": {
        "colab": {
          "base_uri": "https://localhost:8080/"
        },
        "id": "eVViQ5_roZR4",
        "outputId": "a92fb904-3fbe-4245-bb6f-e6cbf510de54"
      },
      "execution_count": null,
      "outputs": [
        {
          "output_type": "stream",
          "name": "stdout",
          "text": [
            "[[2 3 4]\n",
            " [4 5 6]\n",
            " [7 8 9]]\n",
            "dimension: 2\n",
            "shape: (3, 3)\n"
          ]
        }
      ]
    },
    {
      "cell_type": "code",
      "source": [
        "import numpy as np\n",
        "arr1=np.array([1,2,3])\n",
        "print(arr1)\n",
        "print('dimension:',arr1.ndim)\n",
        "print('shape:',arr1.shape)"
      ],
      "metadata": {
        "colab": {
          "base_uri": "https://localhost:8080/"
        },
        "id": "e9qjftA4XeI8",
        "outputId": "4c09771a-8d9b-4045-8930-db4da311da72"
      },
      "execution_count": null,
      "outputs": [
        {
          "output_type": "stream",
          "name": "stdout",
          "text": [
            "[1 2 3]\n",
            "dimension: 1\n",
            "shape: (3,)\n"
          ]
        }
      ]
    },
    {
      "cell_type": "code",
      "source": [
        "arr1=np.array([[2,3,4]])\n",
        "print(arr1)\n",
        "print(arr1.shape)\n",
        "print(arr1.ndim)"
      ],
      "metadata": {
        "colab": {
          "base_uri": "https://localhost:8080/"
        },
        "id": "W4YVLaGRYow0",
        "outputId": "7c96041a-743d-4206-90e0-188cc2d410f8"
      },
      "execution_count": null,
      "outputs": [
        {
          "output_type": "stream",
          "name": "stdout",
          "text": [
            "[[2 3 4]]\n",
            "(1, 3)\n",
            "2\n"
          ]
        }
      ]
    },
    {
      "cell_type": "code",
      "source": [
        "#Create a 2D array whose shape is(4,3)\n",
        "arr1=np.array([[1,2,3],[4,5,6],[7,8,9],[1,4,7]])\n",
        "print(arr1)\n",
        "print(arr1.ndim)\n",
        "print(arr1.shape)"
      ],
      "metadata": {
        "colab": {
          "base_uri": "https://localhost:8080/"
        },
        "id": "OQP-W-ejZ_6v",
        "outputId": "4f083ded-04f6-49d1-a66a-0b20bf03eef2"
      },
      "execution_count": null,
      "outputs": [
        {
          "output_type": "stream",
          "name": "stdout",
          "text": [
            "[[1 2 3]\n",
            " [4 5 6]\n",
            " [7 8 9]\n",
            " [1 4 7]]\n",
            "2\n",
            "(4, 3)\n"
          ]
        }
      ]
    },
    {
      "cell_type": "markdown",
      "source": [
        "3D=2D+2D"
      ],
      "metadata": {
        "id": "g-YbVNMagtUo"
      }
    },
    {
      "cell_type": "code",
      "source": [
        "#Create a 3D array whose shape is\n",
        "arr1=np.array([[[1,2,3],[4,5,6],[7,8,9],[1,4,7]],[[1,2,3],[4,5,6],[7,8,9],[1,4,7]]])\n",
        "print(arr1)\n",
        "print(arr1.ndim)\n",
        "print(arr1.shape)"
      ],
      "metadata": {
        "colab": {
          "base_uri": "https://localhost:8080/"
        },
        "id": "X1joTSQva3Ia",
        "outputId": "b1fdc6c5-69b2-4d5f-e8fa-a3dabe6d0a40"
      },
      "execution_count": null,
      "outputs": [
        {
          "output_type": "stream",
          "name": "stdout",
          "text": [
            "[[[1 2 3]\n",
            "  [4 5 6]\n",
            "  [7 8 9]\n",
            "  [1 4 7]]\n",
            "\n",
            " [[1 2 3]\n",
            "  [4 5 6]\n",
            "  [7 8 9]\n",
            "  [1 4 7]]]\n",
            "3\n",
            "(2, 4, 3)\n"
          ]
        }
      ]
    },
    {
      "cell_type": "code",
      "source": [
        "#Create a 4D array\n",
        "arr1=np.array([[[[1,2,3],[4,5,6],[7,8,9],[1,4,7]],[[1,2,3],[4,5,6],[7,8,9],[1,4,7]]]])\n",
        "print(arr1)\n",
        "print(arr1.ndim)\n",
        "print(arr1.shape)"
      ],
      "metadata": {
        "colab": {
          "base_uri": "https://localhost:8080/"
        },
        "id": "Z9VqszwMiffX",
        "outputId": "3606f6e8-1173-4b12-eaaf-15df1b3db4a5"
      },
      "execution_count": null,
      "outputs": [
        {
          "output_type": "stream",
          "name": "stdout",
          "text": [
            "[[[[1 2 3]\n",
            "   [4 5 6]\n",
            "   [7 8 9]\n",
            "   [1 4 7]]\n",
            "\n",
            "  [[1 2 3]\n",
            "   [4 5 6]\n",
            "   [7 8 9]\n",
            "   [1 4 7]]]]\n",
            "4\n",
            "(1, 2, 4, 3)\n"
          ]
        }
      ]
    },
    {
      "cell_type": "code",
      "source": [
        "arr1=np.array([[[[1,2,3],[4,5,6],[7,8,9],[1,4,7]]]])\n",
        "print(arr1)\n",
        "print(arr1.ndim)\n",
        "print(arr1.shape)"
      ],
      "metadata": {
        "colab": {
          "base_uri": "https://localhost:8080/"
        },
        "id": "yUjNun4DizDq",
        "outputId": "fd3dd59a-d89f-48ea-dbca-b12560041d8a"
      },
      "execution_count": null,
      "outputs": [
        {
          "output_type": "stream",
          "name": "stdout",
          "text": [
            "[[[[1 2 3]\n",
            "   [4 5 6]\n",
            "   [7 8 9]\n",
            "   [1 4 7]]]]\n",
            "4\n",
            "(1, 1, 4, 3)\n"
          ]
        }
      ]
    },
    {
      "cell_type": "code",
      "source": [
        "arr1=np.array([[[[1,2,3],[4,5,6],[7,8,9],[1,4,7]]],[[[1,2,3],[4,5,6],[7,8,9],[1,4,7]]]])\n",
        "print(arr1)\n",
        "print(arr1.ndim)\n",
        "print(arr1.shape)"
      ],
      "metadata": {
        "colab": {
          "base_uri": "https://localhost:8080/"
        },
        "id": "upELjT5cmVaZ",
        "outputId": "3c3d0c68-53a1-40c8-eb60-98fd90953d05"
      },
      "execution_count": null,
      "outputs": [
        {
          "output_type": "stream",
          "name": "stdout",
          "text": [
            "[[[[1 2 3]\n",
            "   [4 5 6]\n",
            "   [7 8 9]\n",
            "   [1 4 7]]]\n",
            "\n",
            "\n",
            " [[[1 2 3]\n",
            "   [4 5 6]\n",
            "   [7 8 9]\n",
            "   [1 4 7]]]]\n",
            "4\n",
            "(2, 1, 4, 3)\n"
          ]
        }
      ]
    },
    {
      "cell_type": "markdown",
      "source": [
        "0D array has 0 square bracket\n",
        "1D array has 1 square bracket\n",
        "2D array has 2 square bracket\n",
        "3D array has 3 square bracket"
      ],
      "metadata": {
        "id": "l6L8RWYtm47B"
      }
    },
    {
      "cell_type": "code",
      "source": [
        "arr1=np.array([1,2,3,4], ndmin=2)\n",
        "print(arr1)\n",
        "print(arr1.ndim)"
      ],
      "metadata": {
        "id": "IB5XTyIVk4pv",
        "colab": {
          "base_uri": "https://localhost:8080/"
        },
        "outputId": "5caa8dfb-78a6-4e52-ee46-0051e689d879"
      },
      "execution_count": null,
      "outputs": [
        {
          "output_type": "stream",
          "name": "stdout",
          "text": [
            "[[1 2 3 4]]\n",
            "2\n"
          ]
        }
      ]
    },
    {
      "cell_type": "code",
      "source": [
        "arr1=np.array([1,2,3,4], ndmin=5)\n",
        "print(arr1)\n",
        "print(arr1.ndim)"
      ],
      "metadata": {
        "colab": {
          "base_uri": "https://localhost:8080/"
        },
        "id": "DYWSa3kWv8l3",
        "outputId": "885d1dcf-101e-42f4-f371-31e17dc82e00"
      },
      "execution_count": null,
      "outputs": [
        {
          "output_type": "stream",
          "name": "stdout",
          "text": [
            "[[[[[1 2 3 4]]]]]\n",
            "5\n"
          ]
        }
      ]
    },
    {
      "cell_type": "markdown",
      "source": [
        "shape should be same\n",
        "Dimension can be different"
      ],
      "metadata": {
        "id": "vlfuyNomxWB7"
      }
    },
    {
      "cell_type": "code",
      "source": [
        "#Create two 1D arrays\n",
        "arr1=np.array([1,2,3,4])\n",
        "arr2=np.array([3,4,5,6])\n",
        "arr3=arr1+arr2\n",
        "print(arr3)"
      ],
      "metadata": {
        "colab": {
          "base_uri": "https://localhost:8080/"
        },
        "id": "p8Eq9MGVwOGF",
        "outputId": "8bdce9d5-6a8b-4e0f-ab12-2044970b7418"
      },
      "execution_count": null,
      "outputs": [
        {
          "output_type": "stream",
          "name": "stdout",
          "text": [
            "[ 4  6  8 10]\n"
          ]
        }
      ]
    },
    {
      "cell_type": "code",
      "source": [
        "arr1=np.array([[1,2,3,4],[3,4,5,6]])\n",
        "arr2=np.array([3,4,5,6])\n",
        "arr3=arr1+arr2\n",
        "print(arr3)"
      ],
      "metadata": {
        "colab": {
          "base_uri": "https://localhost:8080/"
        },
        "id": "mheNFZCSxJzl",
        "outputId": "1f2e2590-cedb-4e3e-e7fb-4d217a4dac70"
      },
      "execution_count": null,
      "outputs": [
        {
          "output_type": "stream",
          "name": "stdout",
          "text": [
            "[[ 4  6  8 10]\n",
            " [ 6  8 10 12]]\n"
          ]
        }
      ]
    },
    {
      "cell_type": "code",
      "source": [
        "arr1=np.array([[1,2,3,4],[3,4,5,6]])\n",
        "arr2=np.array([[3,4,5,6],[4,5,6,7]])\n",
        "arr3=arr1+arr2\n",
        "print(arr3)"
      ],
      "metadata": {
        "colab": {
          "base_uri": "https://localhost:8080/"
        },
        "id": "ra1NwZaixqVL",
        "outputId": "5bd8720e-90ee-4573-fd07-6a9af5dd7de4"
      },
      "execution_count": null,
      "outputs": [
        {
          "output_type": "stream",
          "name": "stdout",
          "text": [
            "[[ 4  6  8 10]\n",
            " [ 7  9 11 13]]\n"
          ]
        }
      ]
    },
    {
      "cell_type": "markdown",
      "source": [
        "NUmpy array indexing"
      ],
      "metadata": {
        "id": "fX4wJdOFyC32"
      }
    },
    {
      "cell_type": "code",
      "source": [
        "arr1=np.array([1,2,3,4])\n",
        "print(arr1[-4])"
      ],
      "metadata": {
        "colab": {
          "base_uri": "https://localhost:8080/"
        },
        "id": "QYwb8Aimx6WQ",
        "outputId": "cec4dc2b-a5ed-4c2d-aaa3-4e0ca916d7fd"
      },
      "execution_count": null,
      "outputs": [
        {
          "output_type": "stream",
          "name": "stdout",
          "text": [
            "1\n"
          ]
        }
      ]
    },
    {
      "cell_type": "code",
      "source": [
        "arr1=np.array([1,2,3,4])\n",
        "print(arr1[2])"
      ],
      "metadata": {
        "colab": {
          "base_uri": "https://localhost:8080/"
        },
        "id": "sghE4OGQyt3d",
        "outputId": "71a66441-1787-4678-ee23-d75396fdb596"
      },
      "execution_count": null,
      "outputs": [
        {
          "output_type": "stream",
          "name": "stdout",
          "text": [
            "3\n"
          ]
        }
      ]
    },
    {
      "cell_type": "code",
      "source": [
        "#Program to calculate sum of all the items in a 1D array\n",
        "arr1=np.array([1,2,3,4])\n",
        "sum=0\n",
        "for i in arr1:\n",
        "  sum+=i\n",
        "print(sum)"
      ],
      "metadata": {
        "colab": {
          "base_uri": "https://localhost:8080/"
        },
        "id": "PxaKQOsZyyg1",
        "outputId": "90b46ea5-9ba9-4353-c2c0-d23b864eb192"
      },
      "execution_count": null,
      "outputs": [
        {
          "output_type": "stream",
          "name": "stdout",
          "text": [
            "110\n"
          ]
        }
      ]
    },
    {
      "cell_type": "code",
      "source": [
        "#Create a 2D array in which the !D arrays are [1,2,3] and [3,4,5]\n",
        "arr1=np.array([[1,2,3],[3,4,5]])\n",
        "print(arr1[1][1])\n"
      ],
      "metadata": {
        "colab": {
          "base_uri": "https://localhost:8080/"
        },
        "id": "IASrstp50ONQ",
        "outputId": "ab524135-a3ca-435a-c98c-115499b64d0c"
      },
      "execution_count": null,
      "outputs": [
        {
          "output_type": "stream",
          "name": "stdout",
          "text": [
            "4\n"
          ]
        }
      ]
    },
    {
      "cell_type": "code",
      "source": [
        "arr1=np.array([[1,2,3],[3,4,5]])\n",
        "print(arr1[1][0],arr1[1][1])"
      ],
      "metadata": {
        "colab": {
          "base_uri": "https://localhost:8080/"
        },
        "id": "U4EC62jx1pWc",
        "outputId": "cdc49577-083c-40ac-980b-66c459553012"
      },
      "execution_count": null,
      "outputs": [
        {
          "output_type": "stream",
          "name": "stdout",
          "text": [
            "3 4\n"
          ]
        }
      ]
    },
    {
      "cell_type": "code",
      "source": [
        "arr1=np.array([[1,2,3],[3,4,5]])\n",
        "print(arr1[1,0:2])"
      ],
      "metadata": {
        "colab": {
          "base_uri": "https://localhost:8080/"
        },
        "id": "UcxiIeAV7oXk",
        "outputId": "cb6d0985-bcef-4297-a9b6-5230e00a2364"
      },
      "execution_count": null,
      "outputs": [
        {
          "output_type": "stream",
          "name": "stdout",
          "text": [
            "[3 4]\n"
          ]
        }
      ]
    },
    {
      "cell_type": "code",
      "source": [
        "arr1=np.array([[1,2,3],[3,4,5]])\n",
        "print(arr1[0:2,0:2])\n"
      ],
      "metadata": {
        "colab": {
          "base_uri": "https://localhost:8080/"
        },
        "id": "9Mf0Nk8M5HSb",
        "outputId": "7c20956d-1a54-4bcf-b1ac-a313dd1733ff"
      },
      "execution_count": null,
      "outputs": [
        {
          "output_type": "stream",
          "name": "stdout",
          "text": [
            "[[1 2]\n",
            " [3 4]]\n"
          ]
        }
      ]
    },
    {
      "cell_type": "code",
      "source": [
        "arr1=np.array([[1,2,3],[3,4,5]])\n",
        "print(arr1[0,0:2],arr1[1,0:2])"
      ],
      "metadata": {
        "colab": {
          "base_uri": "https://localhost:8080/"
        },
        "id": "quQg2lJi8mTF",
        "outputId": "198bda92-0029-4b4b-8feb-8ffe84e03337"
      },
      "execution_count": null,
      "outputs": [
        {
          "output_type": "stream",
          "name": "stdout",
          "text": [
            "[1 2] [3 4]\n"
          ]
        }
      ]
    },
    {
      "cell_type": "markdown",
      "source": [
        "Access elements of a 3D array arr1=np.array()"
      ],
      "metadata": {
        "id": "R0_3OU2J71BN"
      }
    },
    {
      "cell_type": "code",
      "source": [
        "#create a 3D array containing\n",
        "#[[1,2,3],[3,4,5]]\n",
        "#[[5,6,7],[7,8,9]]\n",
        "arr1=np.array([[[1,2,3],[3,4,5]],[[5,6,7],[7,8,9]]])\n",
        "print(arr1[0,0,0])"
      ],
      "metadata": {
        "colab": {
          "base_uri": "https://localhost:8080/"
        },
        "id": "Kl0tXl1p7yAJ",
        "outputId": "4bfde423-8c64-40d4-c797-b77140bad49e"
      },
      "execution_count": null,
      "outputs": [
        {
          "output_type": "stream",
          "name": "stdout",
          "text": [
            "1\n"
          ]
        }
      ]
    },
    {
      "cell_type": "code",
      "source": [
        "#create a 3D array containing\n",
        "#[[1,2,3],[3,4,5]]\n",
        "#[[5,6,7],[7,8,9]]\n",
        "arr1=np.array([[[1,2,3],[3,4,5]],[[5,6,7],[7,8,9]]])\n",
        "print(arr1.ndim)\n",
        "print(arr1)\n",
        "print(arr1[0,0,0])"
      ],
      "metadata": {
        "id": "Qz5T2HO9c3kX"
      },
      "execution_count": null,
      "outputs": []
    },
    {
      "cell_type": "code",
      "source": [
        "#create a 3D array containing\n",
        "#[[1,2,3],[3,4,5]]\n",
        "#[[5,6,7],[7,8,9]]\n",
        "import numpy as np\n",
        "arr1=np.array([[[1,2,3],[3,4,5]],[[5,6,7],[7,8,9]]])\n",
        "print(arr1.ndim)\n",
        "print(arr1)\n",
        "print(arr1[x,a,e])"
      ],
      "metadata": {
        "colab": {
          "base_uri": "https://localhost:8080/",
          "height": 304
        },
        "id": "Ki6D91_2e8YQ",
        "outputId": "e8aea45d-8b7d-40a8-b393-20e6c53ce316"
      },
      "execution_count": null,
      "outputs": [
        {
          "output_type": "stream",
          "name": "stdout",
          "text": [
            "3\n",
            "[[[1 2 3]\n",
            "  [3 4 5]]\n",
            "\n",
            " [[5 6 7]\n",
            "  [7 8 9]]]\n"
          ]
        },
        {
          "output_type": "error",
          "ename": "NameError",
          "evalue": "ignored",
          "traceback": [
            "\u001b[0;31m---------------------------------------------------------------------------\u001b[0m",
            "\u001b[0;31mNameError\u001b[0m                                 Traceback (most recent call last)",
            "\u001b[0;32m<ipython-input-3-f5423a79ef40>\u001b[0m in \u001b[0;36m<module>\u001b[0;34m\u001b[0m\n\u001b[1;32m      6\u001b[0m \u001b[0mprint\u001b[0m\u001b[0;34m(\u001b[0m\u001b[0marr1\u001b[0m\u001b[0;34m.\u001b[0m\u001b[0mndim\u001b[0m\u001b[0;34m)\u001b[0m\u001b[0;34m\u001b[0m\u001b[0;34m\u001b[0m\u001b[0m\n\u001b[1;32m      7\u001b[0m \u001b[0mprint\u001b[0m\u001b[0;34m(\u001b[0m\u001b[0marr1\u001b[0m\u001b[0;34m)\u001b[0m\u001b[0;34m\u001b[0m\u001b[0;34m\u001b[0m\u001b[0m\n\u001b[0;32m----> 8\u001b[0;31m \u001b[0mprint\u001b[0m\u001b[0;34m(\u001b[0m\u001b[0marr1\u001b[0m\u001b[0;34m[\u001b[0m\u001b[0mx\u001b[0m\u001b[0;34m,\u001b[0m\u001b[0ma\u001b[0m\u001b[0;34m,\u001b[0m\u001b[0me\u001b[0m\u001b[0;34m]\u001b[0m\u001b[0;34m)\u001b[0m\u001b[0;34m\u001b[0m\u001b[0;34m\u001b[0m\u001b[0m\n\u001b[0m",
            "\u001b[0;31mNameError\u001b[0m: name 'x' is not defined"
          ]
        }
      ]
    },
    {
      "cell_type": "code",
      "source": [
        "#create a 3D array containing\n",
        "#[[1,2,3],[3,4,5]]\n",
        "#[[5,6,7],[7,8,9]]\n",
        "arr1=np.array([[[1,2,3],[3,4,5]],[[5,6,7],[7,8,9]]])\n",
        "print(arr1.ndim)\n",
        "print(arr1)\n",
        "print(arr1[0,1,1])"
      ],
      "metadata": {
        "colab": {
          "base_uri": "https://localhost:8080/"
        },
        "id": "sHRnLriFfNur",
        "outputId": "ab40287c-4273-4781-d2e6-fcccb6c036c4"
      },
      "execution_count": null,
      "outputs": [
        {
          "output_type": "stream",
          "name": "stdout",
          "text": [
            "3\n",
            "[[[1 2 3]\n",
            "  [3 4 5]]\n",
            "\n",
            " [[5 6 7]\n",
            "  [7 8 9]]]\n",
            "4\n"
          ]
        }
      ]
    },
    {
      "cell_type": "code",
      "source": [
        "import numpy as np\n",
        "arr1=np.array([[1,2,3],[4,5,6]])\n",
        "for x in arr1:\n",
        "  print(x)"
      ],
      "metadata": {
        "colab": {
          "base_uri": "https://localhost:8080/"
        },
        "id": "-1PXXuH-hE8S",
        "outputId": "ef5b89d1-7676-4102-da3a-1c650e51390a"
      },
      "execution_count": null,
      "outputs": [
        {
          "output_type": "stream",
          "name": "stdout",
          "text": [
            "[1 2 3]\n",
            "[4 5 6]\n"
          ]
        }
      ]
    },
    {
      "cell_type": "code",
      "source": [
        "import numpy as np\n",
        "arr1=np.array([[1,2,3],[4,5,6]])\n",
        "for x in arr1:\n",
        "  for d in x:\n",
        "    print(d)\n",
        "  "
      ],
      "metadata": {
        "colab": {
          "base_uri": "https://localhost:8080/"
        },
        "id": "oC_mbOe_hi95",
        "outputId": "dcdce6e0-f378-490b-f1ea-8d2deb393d13"
      },
      "execution_count": null,
      "outputs": [
        {
          "output_type": "stream",
          "name": "stdout",
          "text": [
            "1\n",
            "2\n",
            "3\n",
            "4\n",
            "5\n",
            "6\n"
          ]
        }
      ]
    },
    {
      "cell_type": "code",
      "source": [
        "import numpy as np\n",
        "arr1=np.array([[1,2,3],[4,5,6]])\n",
        "for x in arr1:\n",
        "  for y in x:\n",
        "    print(x)"
      ],
      "metadata": {
        "colab": {
          "base_uri": "https://localhost:8080/"
        },
        "id": "LzvuU3kxhvW7",
        "outputId": "02937da6-9631-476e-bb4e-ce8d38ffc986"
      },
      "execution_count": null,
      "outputs": [
        {
          "output_type": "stream",
          "name": "stdout",
          "text": [
            "[1 2 3]\n",
            "[1 2 3]\n",
            "[1 2 3]\n",
            "[4 5 6]\n",
            "[4 5 6]\n",
            "[4 5 6]\n"
          ]
        }
      ]
    },
    {
      "cell_type": "code",
      "source": [
        "arr1=np.array([[1,2,3],[4,5,6]])\n",
        "for x in arr1:\n",
        "  for y in x:\n",
        "    print(y,end=' ')"
      ],
      "metadata": {
        "colab": {
          "base_uri": "https://localhost:8080/"
        },
        "id": "PRZnigxqjZ2t",
        "outputId": "7c85e6e3-7cfa-47a4-9b7d-93296a3f48a3"
      },
      "execution_count": null,
      "outputs": [
        {
          "output_type": "stream",
          "name": "stdout",
          "text": [
            "1 2 3 4 5 6 "
          ]
        }
      ]
    },
    {
      "cell_type": "code",
      "source": [
        "arr1=np.array([[1,2,3],[4,5,6]])\n",
        "for x in arr1:\n",
        "    print(x,end=' ')"
      ],
      "metadata": {
        "colab": {
          "base_uri": "https://localhost:8080/"
        },
        "id": "gWJSB6TelMxB",
        "outputId": "3bbf8251-b9ac-424c-af84-0a1bbb408b85"
      },
      "execution_count": null,
      "outputs": [
        {
          "output_type": "stream",
          "name": "stdout",
          "text": [
            "[1 2 3] [4 5 6] "
          ]
        }
      ]
    },
    {
      "cell_type": "code",
      "source": [
        "#print scalar values 0D array elements of 3D numpy  array\n",
        "arr1=np.array([[[1,2,3],[4,5,6]],[[7,8,9],[0,1,2]]])\n",
        "for x in arr1:\n",
        "  for y in x:\n",
        "    print(y,end=' ')"
      ],
      "metadata": {
        "colab": {
          "base_uri": "https://localhost:8080/"
        },
        "id": "7Z1BS_Mkjotn",
        "outputId": "2a385724-b7d7-4f45-aeec-348c5676ee24"
      },
      "execution_count": null,
      "outputs": [
        {
          "output_type": "stream",
          "name": "stdout",
          "text": [
            "[1 2 3] [4 5 6] [7 8 9] [0 1 2] "
          ]
        }
      ]
    },
    {
      "cell_type": "code",
      "source": [
        "arr1=np.array([[[1,2,3],[4,5,6]],[[7,8,9],[0,1,2]]])\n",
        "for x in arr1:\n",
        "  for y in x:\n",
        "    for z in y:\n",
        "     print(z,end=' ')\n",
        "print()     \n",
        "print('shape: ',arr1.shape)"
      ],
      "metadata": {
        "colab": {
          "base_uri": "https://localhost:8080/"
        },
        "id": "x58vh52pk6li",
        "outputId": "4b1ca288-8a5c-45d0-e8ee-c4fdbdd4cf9e"
      },
      "execution_count": null,
      "outputs": [
        {
          "output_type": "stream",
          "name": "stdout",
          "text": [
            "1 2 3 4 5 6 7 8 9 0 1 2 \n",
            "shape:  (2, 2, 3)\n"
          ]
        }
      ]
    },
    {
      "cell_type": "code",
      "source": [
        "#nditer()\n",
        "arr1=np.array([[[1,2,3],[4,5,6]],[[7,8,9],[0,1,2]]])\n",
        "for x in np.nditer(arr1):\n",
        "  print(x,end=' ')\n"
      ],
      "metadata": {
        "colab": {
          "base_uri": "https://localhost:8080/"
        },
        "id": "tKC4B1VxqTSX",
        "outputId": "b4c682f4-34f9-4cac-ce64-cbe044ff147e"
      },
      "execution_count": null,
      "outputs": [
        {
          "output_type": "stream",
          "name": "stdout",
          "text": [
            "1 2 3 4 5 6 7 8 9 0 1 2 "
          ]
        }
      ]
    },
    {
      "cell_type": "markdown",
      "source": [
        "Populate arrays with sequence numbers:\n",
        "arange()"
      ],
      "metadata": {
        "id": "vvvVYVH0q3Md"
      }
    },
    {
      "cell_type": "code",
      "source": [
        "arr1=np.arange(5,12)\n",
        "print(arr1)\n",
        "print(arr1.ndim)\n",
        "print(arr1.shape)"
      ],
      "metadata": {
        "colab": {
          "base_uri": "https://localhost:8080/"
        },
        "id": "4QKoETDmq-d8",
        "outputId": "1c29e99f-a015-48ce-f6ce-66467692e419"
      },
      "execution_count": null,
      "outputs": [
        {
          "output_type": "stream",
          "name": "stdout",
          "text": [
            "[ 5  6  7  8  9 10 11]\n",
            "1\n",
            "(7,)\n"
          ]
        }
      ]
    },
    {
      "cell_type": "code",
      "source": [
        "arr1=np.arange(5,12,2)\n",
        "print(arr1)\n",
        "print(arr1.ndim)\n",
        "print(arr1.shape)"
      ],
      "metadata": {
        "colab": {
          "base_uri": "https://localhost:8080/"
        },
        "id": "--pVWpXjrbry",
        "outputId": "ccb3c4a2-1596-4a14-8ddb-802411e78785"
      },
      "execution_count": null,
      "outputs": [
        {
          "output_type": "stream",
          "name": "stdout",
          "text": [
            "[ 5  7  9 11]\n",
            "1\n",
            "(4,)\n"
          ]
        }
      ]
    },
    {
      "cell_type": "markdown",
      "source": [
        "Populate array with random numbers:\n",
        "np.random.randint(low,high,size)"
      ],
      "metadata": {
        "id": "5GbKtx_-rg-j"
      }
    },
    {
      "cell_type": "code",
      "source": [
        "arr1=np.random.randint(low=10,high=20,size=(6))\n",
        "print(arr1)"
      ],
      "metadata": {
        "colab": {
          "base_uri": "https://localhost:8080/"
        },
        "id": "q9nHjgl2ryDw",
        "outputId": "a75c4931-4bda-4e31-ee3e-ab7b7787e8f2"
      },
      "execution_count": null,
      "outputs": [
        {
          "output_type": "stream",
          "name": "stdout",
          "text": [
            "[12 16 17 10 16 17]\n"
          ]
        }
      ]
    },
    {
      "cell_type": "code",
      "source": [
        "arr1=np.random.randint(low=5,high=30,size=(9))\n",
        "print(arr1)"
      ],
      "metadata": {
        "colab": {
          "base_uri": "https://localhost:8080/"
        },
        "id": "pH5NIeRasMqI",
        "outputId": "9947097e-0abf-4995-c8e8-585ea3baacec"
      },
      "execution_count": null,
      "outputs": [
        {
          "output_type": "stream",
          "name": "stdout",
          "text": [
            "[14 12 21 27 17  9  7 18 20]\n"
          ]
        }
      ]
    },
    {
      "cell_type": "code",
      "source": [
        "arr1=np.random.randint(low=5,high=30,size=(6,2)) #row,column\n",
        "print(arr1)"
      ],
      "metadata": {
        "colab": {
          "base_uri": "https://localhost:8080/"
        },
        "id": "m577H0VXsYk6",
        "outputId": "5e819a16-0637-4c76-b5d0-2a226485ada3"
      },
      "execution_count": null,
      "outputs": [
        {
          "output_type": "stream",
          "name": "stdout",
          "text": [
            "[[22 10]\n",
            " [20 18]\n",
            " [29  8]\n",
            " [26 10]\n",
            " [19 15]\n",
            " [ 7 23]]\n"
          ]
        }
      ]
    },
    {
      "cell_type": "code",
      "source": [
        "arr1=np.random.randint(low=5,high=30,size=(6,2,2)) #row,column\n",
        "print(arr1)"
      ],
      "metadata": {
        "colab": {
          "base_uri": "https://localhost:8080/"
        },
        "id": "u4Lg78wHs9rx",
        "outputId": "4ad499d3-67c0-4fab-e37d-750b8a452220"
      },
      "execution_count": null,
      "outputs": [
        {
          "output_type": "stream",
          "name": "stdout",
          "text": [
            "[[[ 8 17]\n",
            "  [ 5  8]]\n",
            "\n",
            " [[ 5 26]\n",
            "  [15  6]]\n",
            "\n",
            " [[21 25]\n",
            "  [18 29]]\n",
            "\n",
            " [[19  7]\n",
            "  [17 12]]\n",
            "\n",
            " [[19 14]\n",
            "  [16  5]]\n",
            "\n",
            " [[28 26]\n",
            "  [16 11]]]\n"
          ]
        }
      ]
    },
    {
      "cell_type": "code",
      "source": [
        "arr1=np.random.randint(low=5,high=30,size=(6,2,2,2)) #row,column\n",
        "print(arr1)"
      ],
      "metadata": {
        "colab": {
          "base_uri": "https://localhost:8080/"
        },
        "id": "BzEWttMntxft",
        "outputId": "7f9d2e48-3c4b-442c-acd3-9fb130fcdfb2"
      },
      "execution_count": null,
      "outputs": [
        {
          "output_type": "stream",
          "name": "stdout",
          "text": [
            "[[[[22 16]\n",
            "   [21 26]]\n",
            "\n",
            "  [[12 11]\n",
            "   [21  7]]]\n",
            "\n",
            "\n",
            " [[[ 7 29]\n",
            "   [20 14]]\n",
            "\n",
            "  [[12 12]\n",
            "   [13 13]]]\n",
            "\n",
            "\n",
            " [[[13 14]\n",
            "   [13 19]]\n",
            "\n",
            "  [[ 8  8]\n",
            "   [ 9 20]]]\n",
            "\n",
            "\n",
            " [[[11 23]\n",
            "   [13 24]]\n",
            "\n",
            "  [[29 17]\n",
            "   [21 16]]]\n",
            "\n",
            "\n",
            " [[[24 26]\n",
            "   [ 5 17]]\n",
            "\n",
            "  [[24  9]\n",
            "   [27 15]]]\n",
            "\n",
            "\n",
            " [[[15 11]\n",
            "   [ 6 11]]\n",
            "\n",
            "  [[ 7 22]\n",
            "   [20 29]]]]\n"
          ]
        }
      ]
    },
    {
      "cell_type": "code",
      "source": [
        "arr1=np.random.randint(low=5,high=30,size=(3,2,3,4,3)) #row,column\n",
        "print(arr1)"
      ],
      "metadata": {
        "colab": {
          "base_uri": "https://localhost:8080/"
        },
        "id": "VAz4hgVwukEi",
        "outputId": "3a1b543b-dca2-4395-ad31-d9c6f0a0b061"
      },
      "execution_count": null,
      "outputs": [
        {
          "output_type": "stream",
          "name": "stdout",
          "text": [
            "[[[[[26 18 24]\n",
            "    [28 15 19]\n",
            "    [16  7 25]\n",
            "    [11 21 23]]\n",
            "\n",
            "   [[10 10 17]\n",
            "    [29 23 26]\n",
            "    [22 24 27]\n",
            "    [18 11 28]]\n",
            "\n",
            "   [[15 23 11]\n",
            "    [14 21 22]\n",
            "    [17 16 19]\n",
            "    [24 26  5]]]\n",
            "\n",
            "\n",
            "  [[[29 17 17]\n",
            "    [22  9 28]\n",
            "    [16 21 21]\n",
            "    [ 6 19  6]]\n",
            "\n",
            "   [[22  8  8]\n",
            "    [29 27 29]\n",
            "    [ 5 20 13]\n",
            "    [19 22 13]]\n",
            "\n",
            "   [[ 6 27  5]\n",
            "    [26 10 13]\n",
            "    [ 8 14  9]\n",
            "    [25 29 27]]]]\n",
            "\n",
            "\n",
            "\n",
            " [[[[20 18  6]\n",
            "    [ 5 18 23]\n",
            "    [ 9 18 28]\n",
            "    [14  7 22]]\n",
            "\n",
            "   [[24 25  7]\n",
            "    [16 21 19]\n",
            "    [14 26 27]\n",
            "    [20 16 23]]\n",
            "\n",
            "   [[29  5 17]\n",
            "    [ 8 23 16]\n",
            "    [17 29 21]\n",
            "    [19  8 27]]]\n",
            "\n",
            "\n",
            "  [[[20 27 22]\n",
            "    [ 8 16 27]\n",
            "    [16 26 19]\n",
            "    [19 18 21]]\n",
            "\n",
            "   [[ 7 22 26]\n",
            "    [11  7 10]\n",
            "    [ 7  6 22]\n",
            "    [27 28 11]]\n",
            "\n",
            "   [[28 28 19]\n",
            "    [25  5  5]\n",
            "    [27  7 18]\n",
            "    [24 13 13]]]]\n",
            "\n",
            "\n",
            "\n",
            " [[[[16  9 24]\n",
            "    [16 17 27]\n",
            "    [25 16 27]\n",
            "    [18 11 25]]\n",
            "\n",
            "   [[ 8 21 28]\n",
            "    [29 16 16]\n",
            "    [ 8 22 17]\n",
            "    [ 9 19 10]]\n",
            "\n",
            "   [[29 29 27]\n",
            "    [17  8  9]\n",
            "    [11 19 14]\n",
            "    [ 5 29 12]]]\n",
            "\n",
            "\n",
            "  [[[20 26 24]\n",
            "    [22 14 20]\n",
            "    [16 13 19]\n",
            "    [10 10 24]]\n",
            "\n",
            "   [[14 13  5]\n",
            "    [17  8 24]\n",
            "    [14 25 13]\n",
            "    [ 5 24 29]]\n",
            "\n",
            "   [[11 14 21]\n",
            "    [14 22 16]\n",
            "    [ 6 21 21]\n",
            "    [11 28  7]]]]]\n"
          ]
        }
      ]
    },
    {
      "cell_type": "markdown",
      "source": [
        "Broadcasting:\n",
        "2=[[2,2,2],[2,2,2]]"
      ],
      "metadata": {
        "id": "I_0XU_UfwMLl"
      }
    },
    {
      "cell_type": "code",
      "source": [
        "arr1=np.array([[2,3,4],[5,6,7]])\n",
        "print(arr1 + 2)\n",
        "print(arr1*2)"
      ],
      "metadata": {
        "colab": {
          "base_uri": "https://localhost:8080/"
        },
        "id": "DIb8Pi5rup_c",
        "outputId": "09bc0434-f419-4ab2-eeaf-56b82b131b7d"
      },
      "execution_count": null,
      "outputs": [
        {
          "output_type": "stream",
          "name": "stdout",
          "text": [
            "[[4 5 6]\n",
            " [7 8 9]]\n",
            "[[ 4  6  8]\n",
            " [10 12 14]]\n"
          ]
        }
      ]
    },
    {
      "cell_type": "code",
      "source": [
        "arr1=np.array([[2,3,4],[5,6,6]])\n",
        "print(arr1*5)"
      ],
      "metadata": {
        "colab": {
          "base_uri": "https://localhost:8080/"
        },
        "id": "a36a3mVWwssc",
        "outputId": "ae590db7-f3b3-48e1-b083-5beca6c17d3d"
      },
      "execution_count": null,
      "outputs": [
        {
          "output_type": "stream",
          "name": "stdout",
          "text": [
            "[[10 15 20]\n",
            " [25 30 30]]\n"
          ]
        }
      ]
    },
    {
      "cell_type": "markdown",
      "source": [
        "Create a linear Dataset\n",
        "Create a simple dataset consisting of a single feature and a label as follows:\n",
        "1. Assign a sequence of integers from 6 to 20(inclusive) to a Numpy array named feature.\n",
        "2. Assign 15 values to a NumPy array named label such that:\n",
        "\n",
        "label=(3)(feature)+4\n",
        "For example,the first value for label should be:\n",
        "label=(3)(6)+4=22"
      ],
      "metadata": {
        "id": "OfV6r05ow7lv"
      }
    },
    {
      "cell_type": "code",
      "source": [
        "feature=np.arange(6,21)\n",
        "label=3*feature+4\n",
        "print(feature)\n",
        "print(label)\n"
      ],
      "metadata": {
        "colab": {
          "base_uri": "https://localhost:8080/"
        },
        "id": "vGJtcMHDx90A",
        "outputId": "da2c8830-819d-4a5a-b92a-de17ce44d1a2"
      },
      "execution_count": null,
      "outputs": [
        {
          "output_type": "stream",
          "name": "stdout",
          "text": [
            "[ 6  7  8  9 10 11 12 13 14 15 16 17 18 19 20]\n",
            "[22 25 28 31 34 37 40 43 46 49 52 55 58 61 64]\n"
          ]
        }
      ]
    }
  ]
}